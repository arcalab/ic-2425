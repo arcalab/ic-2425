{
 "cells": [
  {
   "cell_type": "markdown",
   "metadata": {},
   "source": [
    "### Trabalho Prático de IeC"
   ]
  },
  {
   "cell_type": "markdown",
   "metadata": {},
   "source": [
    "**Objetivo** : Procurar um numero N em uma lista não ordenada, utilizando um algoritmo quantico. Dos algoritmos dados na aula, o algoritmo de groover é o mais adequado para efetuar a procura."
   ]
  },
  {
   "cell_type": "markdown",
   "metadata": {},
   "source": [
    "A implementação do algoritmo de Grover é feito em 3 fases:\n",
    "* Inicialização\n",
    "* Oraculo\n",
    "* Amplificação"
   ]
  },
  {
   "cell_type": "markdown",
   "metadata": {},
   "source": [
    "     Preparação Quiskit:"
   ]
  },
  {
   "cell_type": "code",
   "execution_count": 7,
   "metadata": {},
   "outputs": [],
   "source": [
    "from qiskit import Aer, IBMQ\n",
    "from qiskit import QuantumCircuit, ClassicalRegister, QuantumRegister\n",
    "from qiskit import execute, transpile\n",
    "\n",
    "from qiskit.tools.visualization import plot_histogram, plot_state_city, plot_state_hinton\n",
    "\n",
    "import matplotlib.pyplot as plt\n",
    "%matplotlib inline"
   ]
  },
  {
   "cell_type": "markdown",
   "metadata": {},
   "source": [
    " **Inicialização :**\n",
    "         Determinar o numero a ser procurado, e a sua representação binária:"
   ]
  },
  {
   "cell_type": "code",
   "execution_count": 8,
   "metadata": {},
   "outputs": [
    {
     "name": "stdout",
     "output_type": "stream",
     "text": [
      "6\n",
      "110\n"
     ]
    }
   ],
   "source": [
    "N = 14\n",
    "w = N % 8\n",
    "wb = bin(w)[2:]\n",
    "print(w)\n",
    "print(wb)"
   ]
  },
  {
   "cell_type": "markdown",
   "metadata": {},
   "source": [
    "Selecionamos o número de qubits necessários para representar o número binário que nos foi dado. Neste caso são precisos 3 qbits.\n"
   ]
  },
  {
   "cell_type": "code",
   "execution_count": 9,
   "metadata": {},
   "outputs": [],
   "source": [
    "x=3"
   ]
  },
  {
   "cell_type": "markdown",
   "metadata": {},
   "source": [
    "**Oraculo** : Criação do oraculo.\n",
    "\n",
    "*Decomposição CnZ*\n"
   ]
  },
  {
   "cell_type": "code",
   "execution_count": 10,
   "metadata": {},
   "outputs": [],
   "source": [
    "def decompose_CnZ(circuit, qr_x, qr_a): \n",
    "    circuit.ccx(qr_x[0],qr_x[1],qr_a[0])\n",
    "    \n",
    "    for i in range(2, x-1):\n",
    "        circuit.ccx(qr_x[i],qr_a[i-2],qr_a[i-1])\n",
    "    \n",
    "    circuit.cz(qr_a[x-3], qr_x[x-1])\n",
    "    \n",
    "    for i in range(x-2, 1, -1):\n",
    "        circuit.ccx(qr_x[i],qr_a[i-2],qr_a[i-1])\n",
    "    \n",
    "    circuit.ccx(qr_x[0],qr_x[1],qr_a[0])"
   ]
  },
  {
   "cell_type": "code",
   "execution_count": 11,
   "metadata": {},
   "outputs": [],
   "source": [
    "qr_a= QuantumRegister(x-2,'qr_aux')"
   ]
  },
  {
   "cell_type": "code",
   "execution_count": 12,
   "metadata": {},
   "outputs": [],
   "source": [
    "qr_x = QuantumRegister(x, 'x')"
   ]
  },
  {
   "cell_type": "code",
   "execution_count": 13,
   "metadata": {},
   "outputs": [
    {
     "data": {
      "image/png": "[encoded data removed]",
      "text/plain": [
       "<Figure size 313.782x264.88 with 1 Axes>"
      ]
     },
     "execution_count": 13,
     "metadata": {},
     "output_type": "execute_result"
    }
   ],
   "source": [
    "qc_help5= QuantumCircuit(qr_x, qr_a)\n",
    "decompose_CnZ(qc_help5, qr_x, qr_a)\n",
    "\n",
    "qc_help5.draw(output='mpl')"
   ]
  },
  {
   "cell_type": "code",
   "execution_count": 14,
   "metadata": {},
   "outputs": [],
   "source": [
    "def select_w(circuit, qr_x):\n",
    "    circuit.x(qr_x[0])\n",
    "    #circuit.x(qr_x[1])\n",
    "    #circuit.x(qr_x[2])\n",
    "\n",
    "def phase_oracle(circuit, qr_x, qr_a):\n",
    "    select_w(circuit,qr_x)\n",
    "    decompose_CnZ(circuit, qr_x, qr_a)\n",
    "    select_w(circuit,qr_x)"
   ]
  },
  {
   "cell_type": "markdown",
   "metadata": {},
   "source": [
    "**Diffusor** "
   ]
  },
  {
   "cell_type": "markdown",
   "metadata": {},
   "source": [
    "O Objetivo do difusor é de inverter a fase do input desejado, assim como ampliar a sua amplitude."
   ]
  },
  {
   "cell_type": "code",
   "execution_count": 15,
   "metadata": {},
   "outputs": [],
   "source": [
    "def diffuser(circuit, qr_x, qr_a):\n",
    "    circuit.h(qr_x)\n",
    "    circuit.x(qr_x)\n",
    "    decompose_CnZ(circuit, qr_x, qr_a) #CCCCZ -> CCZ\n",
    "    circuit.x(qr_x)\n",
    "    circuit.h(qr_x)"
   ]
  },
  {
   "cell_type": "markdown",
   "metadata": {},
   "source": [
    "Agora vamos calcular o numero de vezes que temos de repetir a execução do oráculo e do difusor. Este valor (x) é determinado por x = $\\sqrt{N}$ , sendo N o comprimento da lista de entrada (Numero de elementos). Este valor é o numero ideal de \"iterações\" para ter um bom valor de medição, sem degradação dos resultados."
   ]
  },
  {
   "cell_type": "code",
   "execution_count": 16,
   "metadata": {},
   "outputs": [
    {
     "name": "stdout",
     "output_type": "stream",
     "text": [
      "3\n"
     ]
    }
   ],
   "source": [
    "import math as m\n",
    "\n",
    "times= round(m.sqrt(2**x))\n",
    "print(times)"
   ]
  },
  {
   "cell_type": "markdown",
   "metadata": {},
   "source": [
    "Nesta fase vamos fazer a medição dos qubits."
   ]
  },
  {
   "cell_type": "code",
   "execution_count": 17,
   "metadata": {},
   "outputs": [],
   "source": [
    "backend = Aer.get_backend(\"qasm_simulator\")"
   ]
  },
  {
   "cell_type": "code",
   "execution_count": null,
   "metadata": {},
   "outputs": [],
   "source": []
  },
  {
   "cell_type": "code",
   "execution_count": 40,
   "metadata": {},
   "outputs": [
    {
     "data": {
      "image/png": "[encoded data removed]",
      "text/plain": [
       "<Figure size 1638.18x686.28 with 1 Axes>"
      ]
     },
     "execution_count": 40,
     "metadata": {},
     "output_type": "execute_result"
    }
   ],
   "source": [
    "cr=ClassicalRegister(x,'cr')\n",
    "qc_Grover= QuantumCircuit(qr_x,qr_a,cr)\n",
    "\n",
    "# 1.init\n",
    "qc_Grover.h(qr_x)\n",
    "\n",
    "# 2.oracle and diffuser \n",
    "\n",
    "for t in range(times):\n",
    "    # a)\n",
    "    phase_oracle(qc_Grover, qr_x,qr_a)\n",
    "    # b)\n",
    "    diffuser(qc_Grover,qr_x,qr_a)\n",
    "\n",
    "# 3.     \n",
    "qc_Grover.measure(qr_x,cr)\n",
    "\n",
    "qc_Grover.draw(output='mpl')"
   ]
  },
  {
   "cell_type": "code",
   "execution_count": 41,
   "metadata": {},
   "outputs": [
    {
     "data": {
      "image/png": "[encoded data removed]",
      "text/plain": [
       "<Figure size 504x360 with 1 Axes>"
      ]
     },
     "execution_count": 41,
     "metadata": {},
     "output_type": "execute_result"
    }
   ],
   "source": [
    "shots=1024\n",
    "result = execute(qc_Grover, backend, shots=shots).result()\n",
    "counts_sim = result.get_counts(qc_Grover)\n",
    "plot_histogram(counts_sim)"
   ]
  },
  {
   "cell_type": "code",
   "execution_count": 37,
   "metadata": {},
   "outputs": [
    {
     "data": {
      "text/plain": [
       "14"
      ]
     },
     "execution_count": 37,
     "metadata": {},
     "output_type": "execute_result"
    }
   ],
   "source": [
    "qc_Grover.depth()"
   ]
  },
  {
   "cell_type": "markdown",
   "metadata": {},
   "source": [
    "Nesta fase vamos correr o algoritmo num **Computador quântico**."
   ]
  },
  {
   "cell_type": "code",
   "execution_count": 14,
   "metadata": {},
   "outputs": [
    {
     "data": {
      "text/plain": [
       "[<IBMQSimulator('ibmq_qasm_simulator') from IBMQ(hub='ibm-q', group='open', project='main')>,\n",
       " <IBMQBackend('ibmqx2') from IBMQ(hub='ibm-q', group='open', project='main')>,\n",
       " <IBMQBackend('ibmq_16_melbourne') from IBMQ(hub='ibm-q', group='open', project='main')>,\n",
       " <IBMQBackend('ibmq_armonk') from IBMQ(hub='ibm-q', group='open', project='main')>,\n",
       " <IBMQBackend('ibmq_athens') from IBMQ(hub='ibm-q', group='open', project='main')>,\n",
       " <IBMQBackend('ibmq_santiago') from IBMQ(hub='ibm-q', group='open', project='main')>,\n",
       " <IBMQBackend('ibmq_lima') from IBMQ(hub='ibm-q', group='open', project='main')>,\n",
       " <IBMQBackend('ibmq_belem') from IBMQ(hub='ibm-q', group='open', project='main')>,\n",
       " <IBMQBackend('ibmq_quito') from IBMQ(hub='ibm-q', group='open', project='main')>,\n",
       " <IBMQSimulator('simulator_statevector') from IBMQ(hub='ibm-q', group='open', project='main')>,\n",
       " <IBMQSimulator('simulator_mps') from IBMQ(hub='ibm-q', group='open', project='main')>,\n",
       " <IBMQSimulator('simulator_extended_stabilizer') from IBMQ(hub='ibm-q', group='open', project='main')>,\n",
       " <IBMQSimulator('simulator_stabilizer') from IBMQ(hub='ibm-q', group='open', project='main')>,\n",
       " <IBMQBackend('ibmq_manila') from IBMQ(hub='ibm-q', group='open', project='main')>]"
      ]
     },
     "execution_count": 14,
     "metadata": {},
     "output_type": "execute_result"
    }
   ],
   "source": [
    "provider = IBMQ.load_account()\n",
    "provider.backends()"
   ]
  },
  {
   "cell_type": "code",
   "execution_count": 15,
   "metadata": {},
   "outputs": [
    {
     "data": {
      "application/vnd.jupyter.widget-view+json": {
       "model_id": "3cceccc1a49a40489866270271db999d",
       "version_major": 2,
       "version_minor": 0
      },
      "text/plain": [
       "VBox(children=(HTML(value=\"<h2 style ='color:#ffffff; background-color:#000000;padding-top: 1%; padding-bottom…"
      ]
     },
     "metadata": {},
     "output_type": "display_data"
    }
   ],
   "source": [
    "# Backend overview\n",
    "import qiskit.tools.jupyter\n",
    "\n",
    "%qiskit_backend_overview"
   ]
  },
  {
   "cell_type": "code",
   "execution_count": 16,
   "metadata": {},
   "outputs": [
    {
     "name": "stdout",
     "output_type": "stream",
     "text": [
      "ibmq_manila                  ibmq_quito                   ibmq_belem\n",
      "-----------                  ----------                   ----------\n",
      "Num. Qubits:  5              Num. Qubits:  5              Num. Qubits:  5\n",
      "Pending Jobs: 2              Pending Jobs: 9              Pending Jobs: 0\n",
      "Least busy:   False          Least busy:   False          Least busy:   True\n",
      "Operational:  True           Operational:  True           Operational:  True\n",
      "Avg. T1:      151.0          Avg. T1:      75.2           Avg. T1:      79.3\n",
      "Avg. T2:      67.0           Avg. T2:      73.2           Avg. T2:      91.6\n",
      "\n",
      "\n",
      "\n",
      "ibmq_lima                    ibmq_santiago                ibmq_athens\n",
      "---------                    -------------                -----------\n",
      "Num. Qubits:  5              Num. Qubits:  5              Num. Qubits:  5\n",
      "Pending Jobs: 7              Pending Jobs: 4              Pending Jobs: 1\n",
      "Least busy:   False          Least busy:   False          Least busy:   False\n",
      "Operational:  True           Operational:  True           Operational:  True\n",
      "Avg. T1:      69.2           Avg. T1:      136.2          Avg. T1:      95.9\n",
      "Avg. T2:      64.9           Avg. T2:      136.4          Avg. T2:      120.6\n",
      "\n",
      "\n",
      "\n",
      "ibmq_armonk                  ibmq_16_melbourne            ibmqx2\n",
      "-----------                  -----------------            ------\n",
      "Num. Qubits:  1              Num. Qubits:  15             Num. Qubits:  5\n",
      "Pending Jobs: 26             Pending Jobs: 0              Pending Jobs: 0\n",
      "Least busy:   False          Least busy:   False          Least busy:   False\n",
      "Operational:  True           Operational:  True           Operational:  True\n",
      "Avg. T1:      124.6          Avg. T1:      57.5           Avg. T1:      54.1\n",
      "Avg. T2:      217.3          Avg. T2:      56.2           Avg. T2:      40.5\n",
      "\n",
      "\n",
      "\n"
     ]
    }
   ],
   "source": [
    "from qiskit.tools.monitor import backend_overview, backend_monitor\n",
    "\n",
    "backend_overview()"
   ]
  },
  {
   "cell_type": "code",
   "execution_count": 17,
   "metadata": {},
   "outputs": [
    {
     "name": "stdout",
     "output_type": "stream",
     "text": [
      "Running on:  ibmq_16_melbourne\n"
     ]
    }
   ],
   "source": [
    "backend_device = provider.get_backend('ibmq_16_melbourne')\n",
    "print(\"Running on: \", backend_device)"
   ]
  },
  {
   "cell_type": "code",
   "execution_count": 18,
   "metadata": {},
   "outputs": [
    {
     "data": {
      "application/vnd.jupyter.widget-view+json": {
       "model_id": "5cd396785b414c2094dae3d57d76bba6",
       "version_major": 2,
       "version_minor": 0
      },
      "text/plain": [
       "VBox(children=(HTML(value=\"<h1 style='color:#ffffff;background-color:#000000;padding-top: 1%;padding-bottom: 1…"
      ]
     },
     "metadata": {},
     "output_type": "display_data"
    },
    {
     "data": {
      "text/plain": [
       "<IBMQBackend('ibmq_16_melbourne') from IBMQ(hub='ibm-q', group='open', project='main')>"
      ]
     },
     "execution_count": 18,
     "metadata": {},
     "output_type": "execute_result"
    }
   ],
   "source": [
    "# See backend information\n",
    "backend_device"
   ]
  },
  {
   "cell_type": "code",
   "execution_count": 19,
   "metadata": {},
   "outputs": [
    {
     "name": "stdout",
     "output_type": "stream",
     "text": [
      "ibmq_16_melbourne\n",
      "=================\n",
      "Configuration\n",
      "-------------\n",
      "    n_qubits: 15\n",
      "    operational: True\n",
      "    status_msg: active\n",
      "    pending_jobs: 0\n",
      "    backend_version: 2.3.24\n",
      "    basis_gates: ['id', 'rz', 'sx', 'x', 'cx']\n",
      "    local: False\n",
      "    simulator: False\n",
      "    supported_instructions: ['cx', 'id', 'delay', 'measure', 'rz', 'sx', 'u1', 'u2', 'u3', 'x']\n",
      "    n_registers: 1\n",
      "    online_date: 2018-11-06 05:00:00+00:00\n",
      "    pulse_num_qubits: 3\n",
      "    conditional: False\n",
      "    credits_required: True\n",
      "    coupling_map: [[0, 1], [0, 14], [1, 0], [1, 2], [1, 13], [2, 1], [2, 3], [2, 12], [3, 2], [3, 4], [3, 11], [4, 3], [4, 5], [4, 10], [5, 4], [5, 6], [5, 9], [6, 5], [6, 8], [7, 8], [8, 6], [8, 7], [8, 9], [9, 5], [9, 8], [9, 10], [10, 4], [10, 9], [10, 11], [11, 3], [11, 10], [11, 12], [12, 2], [12, 11], [12, 13], [13, 1], [13, 12], [13, 14], [14, 0], [14, 13]]\n",
      "    allow_q_object: True\n",
      "    dtm: 0.2222222222222222\n",
      "    description: 15 qubit device\n",
      "    memory: True\n",
      "    quantum_volume: 8\n",
      "    max_shots: 8192\n",
      "    backend_name: ibmq_16_melbourne\n",
      "    open_pulse: False\n",
      "    sample_name: family: Canary, revision: 1.1\n",
      "    input_allowed: ['job']\n",
      "    allow_object_storage: True\n",
      "    meas_map: [[0, 1, 2, 3, 4, 5, 6, 7, 8, 9, 10, 11, 12, 13, 14]]\n",
      "    url: None\n",
      "    dt: 0.2222222222222222\n",
      "    processor_type: {'family': 'Canary', 'revision': 1.1}\n",
      "    multi_meas_enabled: True\n",
      "    max_experiments: 75\n",
      "    dynamic_reprate_enabled: False\n",
      "    pulse_num_channels: 9\n",
      "\n",
      "Qubits [Name / Freq / T1 / T2 / RZ err / SX err / X err / Readout err]\n",
      "----------------------------------------------------------------------\n",
      "    Q0 / 5.11472 GHz / 66.35882 us / 74.45123 us / 0.00000 / 0.00047 / 0.00047 / 0.02620 \n",
      "    Q1 / 5.23508 GHz / 48.18623 us / 50.49284 us / 0.00000 / 0.00086 / 0.00086 / 0.04600 \n",
      "    Q2 / 5.03849 GHz / 70.51519 us / 70.82226 us / 0.00000 / 0.00062 / 0.00062 / 0.04260 \n",
      "    Q3 / 4.89444 GHz / 72.98157 us / 20.79747 us / 0.00000 / 0.00042 / 0.00042 / 0.08170 \n",
      "    Q4 / 5.02204 GHz / 55.12563 us / 61.21174 us / 0.00000 / 0.00094 / 0.00094 / 0.03900 \n",
      "    Q5 / 5.07319 GHz / 22.33489 us / 39.52159 us / 0.00000 / 0.00247 / 0.00247 / 0.05870 \n",
      "    Q6 / 4.92950 GHz / 68.92623 us / 75.93854 us / 0.00000 / 0.00132 / 0.00132 / 0.03400 \n",
      "    Q7 / 4.98322 GHz / 38.83650 us / 24.14050 us / 0.00000 / 0.00195 / 0.00195 / 0.04020 \n",
      "    Q8 / 4.75137 GHz / 134.81130 us / 98.22643 us / 0.00000 / 0.00176 / 0.00176 / 0.03760 \n",
      "    Q9 / 4.97357 GHz / 38.24682 us / 56.46063 us / 0.00000 / 0.00317 / 0.00317 / 0.05160 \n",
      "    Q10 / 4.94457 GHz / 41.69306 us / 52.89810 us / 0.00000 / 0.00157 / 0.00157 / 0.03440 \n",
      "    Q11 / 4.99747 GHz / 55.51833 us / 70.32033 us / 0.00000 / 0.00056 / 0.00056 / 0.04490 \n",
      "    Q12 / 4.76377 GHz / 74.85701 us / 60.53213 us / 0.00000 / 0.00126 / 0.00126 / 0.04080 \n",
      "    Q13 / 4.97359 GHz / 28.92841 us / 32.24520 us / 0.00000 / 0.00279 / 0.00279 / 0.06000 \n",
      "    Q14 / 5.00739 GHz / 44.52039 us / 55.26306 us / 0.00000 / 0.00060 / 0.00060 / 0.05690 \n",
      "\n",
      "Multi-Qubit Gates [Name / Type / Gate Error]\n",
      "--------------------------------------------\n",
      "    cx14_0 / cx / 0.02438\n",
      "    cx0_14 / cx / 0.02438\n",
      "    cx14_13 / cx / 0.03445\n",
      "    cx13_14 / cx / 0.03445\n",
      "    cx6_8 / cx / 0.06126\n",
      "    cx8_6 / cx / 0.06126\n",
      "    cx5_9 / cx / 0.04435\n",
      "    cx9_5 / cx / 0.04435\n",
      "    cx4_10 / cx / 0.02545\n",
      "    cx10_4 / cx / 0.02545\n",
      "    cx11_3 / cx / 0.03114\n",
      "    cx3_11 / cx / 0.03114\n",
      "    cx12_2 / cx / 0.06667\n",
      "    cx2_12 / cx / 0.06667\n",
      "    cx13_1 / cx / 0.05324\n",
      "    cx1_13 / cx / 0.05324\n",
      "    cx13_12 / cx / 0.07904\n",
      "    cx12_13 / cx / 0.07904\n",
      "    cx11_12 / cx / 0.02462\n",
      "    cx12_11 / cx / 0.02462\n",
      "    cx10_11 / cx / 0.03002\n",
      "    cx11_10 / cx / 0.03002\n",
      "    cx9_10 / cx / 0.03607\n",
      "    cx10_9 / cx / 0.03607\n",
      "    cx9_8 / cx / 0.06631\n",
      "    cx8_9 / cx / 0.06631\n",
      "    cx7_8 / cx / 0.04408\n",
      "    cx8_7 / cx / 0.04408\n",
      "    cx5_4 / cx / 0.02998\n",
      "    cx4_5 / cx / 0.02998\n",
      "    cx4_3 / cx / 0.02241\n",
      "    cx3_4 / cx / 0.02241\n",
      "    cx2_3 / cx / 0.02141\n",
      "    cx3_2 / cx / 0.02141\n",
      "    cx1_2 / cx / 0.01045\n",
      "    cx2_1 / cx / 0.01045\n",
      "    cx1_0 / cx / 0.02046\n",
      "    cx0_1 / cx / 0.02046\n",
      "    cx5_6 / cx / 0.05412\n",
      "    cx6_5 / cx / 0.05412\n"
     ]
    }
   ],
   "source": [
    "backend_monitor(backend_device)"
   ]
  },
  {
   "cell_type": "code",
   "execution_count": 20,
   "metadata": {},
   "outputs": [
    {
     "data": {
      "application/vnd.jupyter.widget-view+json": {
       "model_id": "5a6de1186a914dbaa27a463d6b416c96",
       "version_major": 2,
       "version_minor": 0
      },
      "text/plain": [
       "Accordion(children=(VBox(layout=Layout(max_width='710px', min_width='710px')),), layout=Layout(max_height='500…"
      ]
     },
     "metadata": {},
     "output_type": "display_data"
    },
    {
     "data": {
      "application/javascript": [
       "$('div.job_widget')\n",
       "        .detach()\n",
       "        .appendTo($('#header'))\n",
       "        .css({\n",
       "            'z-index': 999,\n",
       "             'position': 'fixed',\n",
       "            'box-shadow': '5px 5px 5px -3px black',\n",
       "            'opacity': 0.95,\n",
       "            'float': 'left,'\n",
       "        })\n",
       "        "
      ],
      "text/plain": [
       "<IPython.core.display.Javascript object>"
      ]
     },
     "metadata": {},
     "output_type": "display_data"
    }
   ],
   "source": [
    "%qiskit_job_watcher"
   ]
  },
  {
   "cell_type": "code",
   "execution_count": 21,
   "metadata": {},
   "outputs": [
    {
     "name": "stdout",
     "output_type": "stream",
     "text": [
      "JOB ID: 60bb8c6300aded9c926a6e71\n"
     ]
    }
   ],
   "source": [
    "job_r = execute(qc_Grover, backend_device, shots=shots)\n",
    "\n",
    "jobID_r = job_r.job_id()\n",
    "\n",
    "print('JOB ID: {}'.format(jobID_r))"
   ]
  },
  {
   "cell_type": "code",
   "execution_count": 22,
   "metadata": {},
   "outputs": [],
   "source": [
    "#ibmq_16_melbourne 4 times the oracle:\n",
    "job_get=backend_device.retrieve_job(\"60bb8c6300aded9c926a6e71\")\n",
    "\n",
    "result_r = job_get.result()\n",
    "counts_run = result_r.get_counts(qc_Grover)"
   ]
  },
  {
   "cell_type": "code",
   "execution_count": 24,
   "metadata": {},
   "outputs": [],
   "source": [
    "#ibmq_16_melbourne 1 times the oracle:\n",
    "job_get=backend_device.retrieve_job(\"60bb8c6300aded9c926a6e71\")\n",
    "\n",
    "result_r = job_get.result()\n",
    "counts_run = result_r.get_counts()"
   ]
  },
  {
   "cell_type": "code",
   "execution_count": 25,
   "metadata": {},
   "outputs": [
    {
     "data": {
      "image/png": "[encoded data removed]",
      "text/plain": [
       "<Figure size 504x360 with 1 Axes>"
      ]
     },
     "execution_count": 25,
     "metadata": {},
     "output_type": "execute_result"
    }
   ],
   "source": [
    "plot_histogram([counts_run, counts_sim ], legend=[ 'run in real device', 'ideal'], color=['#061727','#82cfff'])"
   ]
  },
  {
   "cell_type": "markdown",
   "metadata": {},
   "source": [
    "Agora vamos atenuar os erros com o **Ignis**"
   ]
  },
  {
   "cell_type": "code",
   "execution_count": 26,
   "metadata": {},
   "outputs": [],
   "source": [
    "# Import measurement calibration functions\n",
    "from qiskit.ignis.mitigation.measurement import (complete_meas_cal, tensored_meas_cal,\n",
    "                                                 CompleteMeasFitter, TensoredMeasFitter)"
   ]
  },
  {
   "cell_type": "markdown",
   "metadata": {},
   "source": [
    "### Calibration Matrices"
   ]
  },
  {
   "cell_type": "markdown",
   "metadata": {},
   "source": [
    "**1** Vamos criar uma list com os circuitos de calibração da medição.\n",
    "\n",
    "Cada circuito cria um estado de base.\n",
    "\n",
    "Como medimos 3 qubits, precisamos de $2^3 = 8$ circuitos de calibração."
   ]
  },
  {
   "cell_type": "code",
   "execution_count": 27,
   "metadata": {},
   "outputs": [],
   "source": [
    "# Generate the calibration circuits\n",
    "qr = QuantumRegister(x)\n",
    "\n",
    "# meas_calibs:\n",
    "# list of quantum circuit objects containing the calibration circuits\n",
    "# state_labels:\n",
    "# calibration state labels\n",
    "meas_calibs, state_labels = complete_meas_cal(qubit_list=[0,1,2], qr=qr, circlabel='mcal')"
   ]
  },
  {
   "cell_type": "code",
   "execution_count": 28,
   "metadata": {},
   "outputs": [
    {
     "data": {
      "text/plain": [
       "['000', '001', '010', '011', '100', '101', '110', '111']"
      ]
     },
     "execution_count": 28,
     "metadata": {},
     "output_type": "execute_result"
    }
   ],
   "source": [
    "state_labels"
   ]
  },
  {
   "cell_type": "markdown",
   "metadata": {},
   "source": [
    "#### Computação da matriz de calibração"
   ]
  },
  {
   "cell_type": "markdown",
   "metadata": {},
   "source": [
    "Se não houvesse ruído no dispositivo, a matriz de calibração seria a matriz de identidade $8 \\times 8$. Uma vez que calculamos esta matriz com um dispositivo quântico real, vai haver algum ruído.\n",
    "\n",
    "Podíamos fazer este passo com um ruído simulado do Qiskit Aer."
   ]
  },
  {
   "cell_type": "code",
   "execution_count": 30,
   "metadata": {},
   "outputs": [
    {
     "name": "stdout",
     "output_type": "stream",
     "text": [
      "JOB ID: 60bb8de3fe8ff1941529e7f6\n"
     ]
    }
   ],
   "source": [
    "job_ignis = execute(meas_calibs, backend=backend_device, shots=shots)\n",
    "\n",
    "jobID_run_ignis = job_ignis.job_id()\n",
    "\n",
    "print('JOB ID: {}'.format(jobID_run_ignis))"
   ]
  },
  {
   "cell_type": "code",
   "execution_count": 31,
   "metadata": {},
   "outputs": [],
   "source": [
    "job_get=backend_device.retrieve_job(\"60bb8de3fe8ff1941529e7f6\")\n",
    "\n",
    "cal_results = job_get.result()"
   ]
  },
  {
   "cell_type": "code",
   "execution_count": 32,
   "metadata": {},
   "outputs": [
    {
     "data": {
      "image/png": "[encoded data removed]",
      "text/plain": [
       "<Figure size 432x288 with 2 Axes>"
      ]
     },
     "metadata": {
      "needs_background": "light"
     },
     "output_type": "display_data"
    }
   ],
   "source": [
    "meas_fitter = CompleteMeasFitter(cal_results, state_labels, circlabel='mcal')\n",
    "\n",
    "# Plot the calibration matrix\n",
    "meas_fitter.plot_calibration()"
   ]
  },
  {
   "cell_type": "markdown",
   "metadata": {},
   "source": [
    "#### Análise dos resultados"
   ]
  },
  {
   "cell_type": "code",
   "execution_count": 33,
   "metadata": {},
   "outputs": [
    {
     "name": "stdout",
     "output_type": "stream",
     "text": [
      "Average Measurement Fidelity: 0.715454\n"
     ]
    }
   ],
   "source": [
    "# What is the measurement fidelity?\n",
    "print(\"Average Measurement Fidelity: %f\" % meas_fitter.readout_fidelity())"
   ]
  },
  {
   "cell_type": "markdown",
   "metadata": {},
   "source": [
    "### Aplicar a Calibração"
   ]
  },
  {
   "cell_type": "markdown",
   "metadata": {},
   "source": [
    "Vamos agora aplicar um filtro baseado na matriz de calibração para obter contagens atenuadas."
   ]
  },
  {
   "cell_type": "code",
   "execution_count": 34,
   "metadata": {},
   "outputs": [],
   "source": [
    "# Get the filter object\n",
    "meas_filter = meas_fitter.filter\n",
    "\n",
    "# Results with mitigation\n",
    "mitigated_results = meas_filter.apply(result_r)\n",
    "mitigated_counts = mitigated_results.get_counts()"
   ]
  },
  {
   "cell_type": "code",
   "execution_count": 38,
   "metadata": {},
   "outputs": [
    {
     "data": {
      "image/png": "[encoded data removed]",
      "text/plain": [
       "<Figure size 504x360 with 1 Axes>"
      ]
     },
     "execution_count": 38,
     "metadata": {},
     "output_type": "execute_result"
    }
   ],
   "source": [
    "plot_histogram([counts_run, mitigated_counts, counts_sim], legend=['nao atenuado', 'atenuado', 'ideal'])"
   ]
  },
  {
   "cell_type": "code",
   "execution_count": null,
   "metadata": {},
   "outputs": [],
   "source": []
  }
 ],
 "metadata": {
  "kernelspec": {
   "display_name": "Python 3",
   "language": "python",
   "name": "python3"
  },
  "language_info": {
   "codemirror_mode": {
    "name": "ipython",
    "version": 3
   },
   "file_extension": ".py",
   "mimetype": "text/x-python",
   "name": "python",
   "nbconvert_exporter": "python",
   "pygments_lexer": "ipython3",
   "version": "3.8.5"
  }
 },
 "nbformat": 4,
 "nbformat_minor": 4
}
