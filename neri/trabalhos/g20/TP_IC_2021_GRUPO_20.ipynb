{
 "cells": [
  {
   "cell_type": "markdown",
   "metadata": {},
   "source": [
    "# Trabalho Prático Interação e Concorrência\n",
    "\n",
    "Group 20:<br>\n",
    "Pedro Simão Lemos Silva - A85625 <br>\n",
    "Bruno Alexandre Dias Novais de Sousa - A84945"
   ]
  },
  {
   "cell_type": "markdown",
   "metadata": {},
   "source": [
    "Each group of students has a number assigned, $N$. Now, you have to use\n",
    "a quantum algorithm to find $s$, \n",
    "<br>\n",
    "<br>\n",
    "<center> $s = N \\mod 8$ </center>\n",
    "<br>\n",
    "in an unsorted list."
   ]
  },
  {
   "cell_type": "code",
   "execution_count": 35,
   "metadata": {},
   "outputs": [],
   "source": [
    "# importing Qiskit\n",
    "from qiskit import Aer, IBMQ\n",
    "from qiskit import QuantumCircuit, ClassicalRegister, QuantumRegister\n",
    "from qiskit import execute, transpile\n",
    "\n",
    "from qiskit.tools.visualization import plot_histogram, plot_state_city, plot_state_hinton\n",
    "\n",
    "import matplotlib.pyplot as plt\n",
    "%matplotlib inline"
   ]
  },
  {
   "cell_type": "code",
   "execution_count": 36,
   "metadata": {},
   "outputs": [],
   "source": [
    "backend_vector = Aer.get_backend(\"statevector_simulator\")\n",
    "backend = Aer.get_backend(\"qasm_simulator\")\n",
    "backend_unitary = Aer.get_backend('unitary_simulator')"
   ]
  },
  {
   "cell_type": "markdown",
   "metadata": {},
   "source": [
    "Since the number assigned to our group was the number $20$, the number $s$ that we need to find is"
   ]
  },
  {
   "cell_type": "code",
   "execution_count": 3,
   "metadata": {},
   "outputs": [
    {
     "data": {
      "text/plain": [
       "4"
      ]
     },
     "execution_count": 3,
     "metadata": {},
     "output_type": "execute_result"
    }
   ],
   "source": [
    "N = 20\n",
    "s = N % 8\n",
    "s"
   ]
  },
  {
   "cell_type": "markdown",
   "metadata": {},
   "source": [
    "Since $s = 4$, that implies that we need to localize it in a list, where $s$ is the only value equal to $1$, with the other values being $0$.<br>\n",
    "Also we will only need $3$ qubits, because the list length can be $2^{3} = 8$.<br> \n",
    "With this two informations, we know the list could be represented by the vector of $| 100 \\rangle$."
   ]
  },
  {
   "cell_type": "code",
   "execution_count": 4,
   "metadata": {},
   "outputs": [
    {
     "name": "stdout",
     "output_type": "stream",
     "text": [
      "[0.+0.j 0.+0.j 0.+0.j 0.+0.j 1.+0.j 0.+0.j 0.+0.j 0.+0.j]\n"
     ]
    }
   ],
   "source": [
    "qr_solucao = QuantumRegister(3,'qr')\n",
    "cr_solucao = ClassicalRegister(3,'cr')\n",
    "qc_solucao = QuantumCircuit(qr_solucao,cr_solucao);  \n",
    "qc_solucao.x(qr_solucao[2])\n",
    "result = execute(qc_solucao, backend_vector).result()\n",
    "qstate= result.get_statevector(qc_solucao)\n",
    "print(qstate)"
   ]
  },
  {
   "cell_type": "markdown",
   "metadata": {},
   "source": [
    "Now that we know our number $s$, lets get to the quantum algorithm."
   ]
  },
  {
   "cell_type": "code",
   "execution_count": 5,
   "metadata": {},
   "outputs": [],
   "source": [
    "qr = QuantumRegister(3,'qr')\n",
    "cr = ClassicalRegister(3,'cr')"
   ]
  },
  {
   "cell_type": "markdown",
   "metadata": {},
   "source": [
    "Then we create a quantum circuit"
   ]
  },
  {
   "cell_type": "code",
   "execution_count": 6,
   "metadata": {
    "scrolled": true
   },
   "outputs": [
    {
     "data": {
      "image/png": "[encoded data removed]",
      "text/plain": [
       "<Figure size 125.351x264.88 with 1 Axes>"
      ]
     },
     "execution_count": 6,
     "metadata": {},
     "output_type": "execute_result"
    }
   ],
   "source": [
    "qc_init = QuantumCircuit(qr,cr)\n",
    "qc_init.draw(output='mpl')"
   ]
  },
  {
   "cell_type": "markdown",
   "metadata": {},
   "source": [
    "## Initialization"
   ]
  },
  {
   "cell_type": "markdown",
   "metadata": {},
   "source": [
    "In this stage we need to put all of the qubits with the same amplitude, so we want the qubits to be in a superposition state."
   ]
  },
  {
   "cell_type": "code",
   "execution_count": 7,
   "metadata": {
    "scrolled": true
   },
   "outputs": [
    {
     "data": {
      "image/png": "[encoded data removed]",
      "text/plain": [
       "<Figure size 155.451x264.88 with 1 Axes>"
      ]
     },
     "execution_count": 7,
     "metadata": {},
     "output_type": "execute_result"
    }
   ],
   "source": [
    "qc_init.h(qr)\n",
    "qc_init.draw(output='mpl')"
   ]
  },
  {
   "cell_type": "markdown",
   "metadata": {},
   "source": [
    "### Initialization Simulator\n"
   ]
  },
  {
   "cell_type": "markdown",
   "metadata": {},
   "source": [
    "In this case, since the initial state of the qubits that make up the circuit is $| 000 \\rangle$, after the Hadamard gate, their state turns to $| +_2 \\rangle \\otimes | +_1 \\rangle \\otimes | +_0 \\rangle$ in which $| + \\rangle =\\frac{| 0 \\rangle + | 1 \\rangle }{\\sqrt{2}}$.\n",
    "<br>\n",
    "After calculations, we get the state vector:"
   ]
  },
  {
   "cell_type": "code",
   "execution_count": 8,
   "metadata": {},
   "outputs": [
    {
     "name": "stdout",
     "output_type": "stream",
     "text": [
      "[0.35355339+0.j 0.35355339+0.j 0.35355339+0.j 0.35355339+0.j\n",
      " 0.35355339+0.j 0.35355339+0.j 0.35355339+0.j 0.35355339+0.j]\n"
     ]
    }
   ],
   "source": [
    "result = execute(qc_init, backend_vector).result()\n",
    "qstate= result.get_statevector(qc_init)\n",
    "print(qstate)"
   ]
  },
  {
   "cell_type": "markdown",
   "metadata": {},
   "source": [
    "Since in this step we got every input possible at the same amplitude( as we can see above), now we need to apply a Oracle followed by a Diffuser, a $\\sqrt{T}$ times, where $T$ is the number of inputs, $T = 8$."
   ]
  },
  {
   "cell_type": "markdown",
   "metadata": {},
   "source": [
    "## Oracle\n"
   ]
  },
  {
   "cell_type": "markdown",
   "metadata": {},
   "source": [
    "The purpose of the oracle is to find the target and indicate it.\n",
    "It's in this step that we want the amplitude of the target to differ from the other inputs.\n",
    "So the better way of achieving that goal, is by tring to change $s$'s amplitude to a negative value while keeping every other input value the same."
   ]
  },
  {
   "cell_type": "markdown",
   "metadata": {},
   "source": [
    "So with that in mind, let's try it, using an oracle similiar to what was used in the pretical classes."
   ]
  },
  {
   "cell_type": "markdown",
   "metadata": {},
   "source": [
    "Knowing the previous state of the qubits,"
   ]
  },
  {
   "cell_type": "code",
   "execution_count": 9,
   "metadata": {},
   "outputs": [
    {
     "name": "stdout",
     "output_type": "stream",
     "text": [
      "[0.35355339+0.j 0.35355339+0.j 0.35355339+0.j 0.35355339+0.j\n",
      " 0.35355339+0.j 0.35355339+0.j 0.35355339+0.j 0.35355339+0.j]\n"
     ]
    }
   ],
   "source": [
    "print(qstate)"
   ]
  },
  {
   "cell_type": "markdown",
   "metadata": {},
   "source": [
    "**(1)** We start by adding a X gate to $qr_0$ and $qr_1$.<br>\n",
    "$~~~~$The position of the X gates influences the position of the target. As we are trying to find the target, is important to put a X gate in the qubit that you want as $| 0 \\rangle$, in this example, we put the X gates in the first two qubits because we want the $| 100 \\rangle$ state.<br>\n",
    "$~~~~$Basically the only non-zero value in the last column of the **Unitary Vector** of this two X gates, will turn negative by the CCZ, identifying the target value, depending on the line that value is located."
   ]
  },
  {
   "cell_type": "code",
   "execution_count": 10,
   "metadata": {},
   "outputs": [
    {
     "name": "stderr",
     "output_type": "stream",
     "text": [
      "<ipython-input-10-7cce1a73a425>:2: DeprecationWarning: The QuantumCircuit.__add__() method is being deprecated.Use the compose() method which is more flexible w.r.t circuit register compatibility.\n",
      "  qc = qc_init + qc\n",
      "/home/simao/anaconda3/lib/python3.8/site-packages/qiskit/circuit/quantumcircuit.py:869: DeprecationWarning: The QuantumCircuit.combine() method is being deprecated. Use the compose() method which is more flexible w.r.t circuit register compatibility.\n",
      "  return self.combine(rhs)\n"
     ]
    },
    {
     "data": {
      "image/png": "[encoded data removed]",
      "text/plain": [
       "<Figure size 275.851x264.88 with 1 Axes>"
      ]
     },
     "execution_count": 10,
     "metadata": {},
     "output_type": "execute_result"
    }
   ],
   "source": [
    "qc = QuantumCircuit(qr,cr)\n",
    "qc = qc_init + qc\n",
    "qc_3 = QuantumCircuit(qr,cr)\n",
    "qc_3.x(qr[0])\n",
    "qc_3.x(qr[1])\n",
    "qc_3.barrier()\n",
    "qc = qc + qc_3\n",
    "qc.draw(output='mpl')"
   ]
  },
  {
   "cell_type": "code",
   "execution_count": 11,
   "metadata": {},
   "outputs": [
    {
     "name": "stdout",
     "output_type": "stream",
     "text": [
      "[0.35355339+0.j 0.35355339+0.j 0.35355339+0.j 0.35355339+0.j\n",
      " 0.35355339+0.j 0.35355339+0.j 0.35355339+0.j 0.35355339+0.j]\n"
     ]
    }
   ],
   "source": [
    "result = execute(qc, backend_vector).result()\n",
    "qstate= result.get_statevector(qc)\n",
    "print(qstate)"
   ]
  },
  {
   "cell_type": "markdown",
   "metadata": {},
   "source": [
    "**(2)** We add a CCZ gate, but as we can't put a CCZ because we have $3$ qubits, we can use a CCX gate with control qubits in $qr_0$ and $qr_1$, and $qr_2$ as target qubit, sided by a Hadamard gate in each side **(Z = HXH)**.<br>\n",
    "$~~~~$We add a CCZ gate to turn the only non-zero value in the last column of the **Unitary Vector** of the last X gates into negative, making it the only negative value of the **Unitary Vector** of this gates.\n"
   ]
  },
  {
   "cell_type": "code",
   "execution_count": 12,
   "metadata": {},
   "outputs": [
    {
     "data": {
      "image/png": "[encoded data removed]",
      "text/plain": [
       "<Figure size 516.651x264.88 with 1 Axes>"
      ]
     },
     "execution_count": 12,
     "metadata": {},
     "output_type": "execute_result"
    }
   ],
   "source": [
    "qc_4 = QuantumCircuit(qr,cr)\n",
    "qc_4.h(qr[2])\n",
    "qc_4.ccx(qr[0],qr[1],qr[2])\n",
    "qc_4.h(qr[2])\n",
    "qc_4.barrier()\n",
    "qc = qc + qc_4\n",
    "qc.draw(output='mpl')"
   ]
  },
  {
   "cell_type": "code",
   "execution_count": 13,
   "metadata": {},
   "outputs": [
    {
     "name": "stdout",
     "output_type": "stream",
     "text": [
      "[ 0.35355339-3.37871389e-33j  0.35355339+1.50786785e-33j\n",
      "  0.35355339+1.50786785e-33j  0.35355339-4.32978028e-17j\n",
      "  0.35355339-4.32978028e-17j  0.35355339-4.32978028e-17j\n",
      "  0.35355339-4.32978028e-17j -0.35355339+8.65956056e-17j]\n"
     ]
    }
   ],
   "source": [
    "result = execute(qc, backend_vector).result()\n",
    "qstate= result.get_statevector(qc)\n",
    "print(qstate)"
   ]
  },
  {
   "cell_type": "markdown",
   "metadata": {},
   "source": [
    "**(3)** We add a X gate to $qr_0$ and $qr_1$.<br>\n",
    "$~~~~$This makes the **Unitary Vector** return into a similiar state to the one we started with, the Identity, with the only being the negative value in the target line.<br>\n",
    "$~~~~$This way we can easily locate where our $s$ is."
   ]
  },
  {
   "cell_type": "code",
   "execution_count": 14,
   "metadata": {},
   "outputs": [
    {
     "data": {
      "image/png": "[encoded data removed]",
      "text/plain": [
       "<Figure size 637.051x264.88 with 1 Axes>"
      ]
     },
     "execution_count": 14,
     "metadata": {},
     "output_type": "execute_result"
    }
   ],
   "source": [
    "qc = qc + qc_3\n",
    "qc.draw(output='mpl')"
   ]
  },
  {
   "cell_type": "code",
   "execution_count": 15,
   "metadata": {},
   "outputs": [
    {
     "name": "stdout",
     "output_type": "stream",
     "text": [
      "[ 0.35355339-4.32978028e-17j  0.35355339+1.50786785e-33j\n",
      "  0.35355339+1.50786785e-33j  0.35355339-3.37871389e-33j\n",
      " -0.35355339+8.65956056e-17j  0.35355339-4.32978028e-17j\n",
      "  0.35355339-4.32978028e-17j  0.35355339-4.32978028e-17j]\n"
     ]
    }
   ],
   "source": [
    "result = execute(qc, backend_vector).result()\n",
    "qstate = result.get_statevector(qc)\n",
    "print(qstate)"
   ]
  },
  {
   "cell_type": "markdown",
   "metadata": {},
   "source": [
    "As we see, after the execution of the oracle, we end up with a negative amplitude in $s$, successfully finding our target."
   ]
  },
  {
   "cell_type": "markdown",
   "metadata": {},
   "source": [
    "To show the matrix produced by the oracle only, and how simple it is, we are using **UnitarySimulator** to show that the unitary matrix ends up being pretty similiar with the Identity matrix, with the exception of the position $[s,s]$, where the value is negative, keeping the values in the diagonal."
   ]
  },
  {
   "cell_type": "code",
   "execution_count": 17,
   "metadata": {},
   "outputs": [
    {
     "data": {
      "image/png": "[encoded data removed]",
      "text/plain": [
       "<Figure size 275.851x264.88 with 1 Axes>"
      ]
     },
     "execution_count": 17,
     "metadata": {},
     "output_type": "execute_result"
    }
   ],
   "source": [
    "qc_test1 = QuantumCircuit(qr,cr)\n",
    "phase_oracle(qc_test1,qr)\n",
    "qc_test1.draw(output='mpl')"
   ]
  },
  {
   "cell_type": "code",
   "execution_count": 18,
   "metadata": {},
   "outputs": [
    {
     "name": "stdout",
     "output_type": "stream",
     "text": [
      "[[ 1.-0.j  0.+0.j  0.+0.j  0.+0.j -0.-0.j  0.+0.j  0.+0.j  0.+0.j]\n",
      " [ 0.+0.j  1.-0.j  0.+0.j  0.+0.j  0.+0.j  0.+0.j  0.+0.j  0.+0.j]\n",
      " [ 0.+0.j  0.+0.j  1.-0.j  0.+0.j  0.+0.j  0.+0.j  0.+0.j  0.+0.j]\n",
      " [ 0.+0.j  0.+0.j  0.+0.j  1.-0.j  0.+0.j  0.+0.j  0.+0.j  0.+0.j]\n",
      " [-0.+0.j  0.+0.j  0.+0.j  0.+0.j -1.+0.j  0.+0.j  0.+0.j  0.+0.j]\n",
      " [ 0.+0.j  0.+0.j  0.+0.j  0.+0.j  0.+0.j  1.-0.j  0.+0.j  0.+0.j]\n",
      " [ 0.+0.j  0.+0.j  0.+0.j  0.+0.j  0.+0.j  0.+0.j  1.-0.j  0.+0.j]\n",
      " [ 0.+0.j  0.+0.j  0.+0.j  0.+0.j  0.+0.j  0.+0.j  0.+0.j  1.-0.j]]\n"
     ]
    }
   ],
   "source": [
    "job = execute(qc_test1, backend_unitary)\n",
    "result = job.result()\n",
    "unitary_matrix = result.get_unitary(qc_test1, decimals=3)\n",
    "\n",
    "# Show the results\n",
    "print(unitary_matrix)"
   ]
  },
  {
   "cell_type": "markdown",
   "metadata": {},
   "source": [
    "Since we now know how to build a suitable oracle for the problem, we can organize its code."
   ]
  },
  {
   "cell_type": "code",
   "execution_count": 16,
   "metadata": {},
   "outputs": [],
   "source": [
    "def select_w(circuit, qr_x):\n",
    "    circuit.x(qr_x[0])\n",
    "    circuit.x(qr_x[1])\n",
    "\n",
    "def phase_oracle(circuit, qr_x):\n",
    "    select_w(circuit,qr_x)\n",
    "    circuit.h(qr_x[2])\n",
    "    circuit.ccx(qr_x[0],qr_x[1],qr_x[2])\n",
    "    circuit.h(qr_x[2])\n",
    "    select_w(circuit,qr_x)"
   ]
  },
  {
   "cell_type": "markdown",
   "metadata": {},
   "source": [
    "## Amplification"
   ]
  },
  {
   "cell_type": "markdown",
   "metadata": {},
   "source": [
    "As the meaning of the word says, in this stage we want to increase the amplitude of the target, while decreasing the other inputs amplitude. "
   ]
  },
  {
   "cell_type": "code",
   "execution_count": 20,
   "metadata": {},
   "outputs": [
    {
     "data": {
      "image/png": "[encoded data removed]",
      "text/plain": [
       "<Figure size 516.651x264.88 with 1 Axes>"
      ]
     },
     "execution_count": 20,
     "metadata": {},
     "output_type": "execute_result"
    }
   ],
   "source": [
    "qc_5 = QuantumCircuit(qr,cr)\n",
    "diffuser(qc_5,qr)\n",
    "qc_5.draw(output='mpl')"
   ]
  },
  {
   "cell_type": "code",
   "execution_count": 22,
   "metadata": {},
   "outputs": [
    {
     "name": "stdout",
     "output_type": "stream",
     "text": [
      "[[ 0.75-0.j -0.25+0.j -0.25+0.j -0.25+0.j -0.25-0.j -0.25-0.j -0.25-0.j\n",
      "  -0.25-0.j]\n",
      " [-0.25+0.j  0.75-0.j -0.25+0.j -0.25+0.j -0.25-0.j -0.25-0.j -0.25-0.j\n",
      "  -0.25+0.j]\n",
      " [-0.25+0.j -0.25+0.j  0.75-0.j -0.25+0.j -0.25-0.j -0.25-0.j -0.25-0.j\n",
      "  -0.25-0.j]\n",
      " [-0.25+0.j -0.25+0.j -0.25+0.j  0.75-0.j -0.25+0.j -0.25+0.j -0.25+0.j\n",
      "  -0.25+0.j]\n",
      " [-0.25-0.j -0.25-0.j -0.25-0.j -0.25-0.j  0.75+0.j -0.25-0.j -0.25-0.j\n",
      "  -0.25-0.j]\n",
      " [-0.25-0.j -0.25-0.j -0.25-0.j -0.25+0.j -0.25-0.j  0.75+0.j -0.25-0.j\n",
      "  -0.25-0.j]\n",
      " [-0.25-0.j -0.25+0.j -0.25+0.j -0.25+0.j -0.25-0.j -0.25-0.j  0.75+0.j\n",
      "  -0.25-0.j]\n",
      " [-0.25+0.j -0.25+0.j -0.25+0.j -0.25+0.j -0.25-0.j -0.25+0.j -0.25+0.j\n",
      "   0.75+0.j]]\n"
     ]
    }
   ],
   "source": [
    "job = execute(qc_5, backend_unitary)\n",
    "result = job.result()\n",
    "unitary_matrix = result.get_unitary(qc_5, decimals=3)\n",
    "\n",
    "# Show the results\n",
    "print(unitary_matrix)"
   ]
  },
  {
   "cell_type": "markdown",
   "metadata": {},
   "source": [
    "As we can see using the **UnitarySimulator**, the unitary vector has a positive value in his diagonal, and negative everywhere else. Since the state vector after the oracle comes with only one negative target value, this makes all the values of the state vector negative, but makes the target value a \"bigger negative\" number, while the other become a \"smaller negative\" number."
   ]
  },
  {
   "cell_type": "code",
   "execution_count": 21,
   "metadata": {},
   "outputs": [
    {
     "data": {
      "image/png": "[encoded data removed]",
      "text/plain": [
       "<Figure size 1058.45x264.88 with 1 Axes>"
      ]
     },
     "execution_count": 21,
     "metadata": {},
     "output_type": "execute_result"
    }
   ],
   "source": [
    "qc = qc + qc_5\n",
    "qc.draw(output='mpl')"
   ]
  },
  {
   "cell_type": "code",
   "execution_count": 23,
   "metadata": {},
   "outputs": [
    {
     "name": "stdout",
     "output_type": "stream",
     "text": [
      "[ 0.35355339-4.32978028e-17j  0.35355339+1.50786785e-33j\n",
      "  0.35355339+1.50786785e-33j  0.35355339-3.37871389e-33j\n",
      " -0.35355339+8.65956056e-17j  0.35355339-4.32978028e-17j\n",
      "  0.35355339-4.32978028e-17j  0.35355339-4.32978028e-17j]\n"
     ]
    }
   ],
   "source": [
    "result = execute(qc, backend_vector).result()\n",
    "qstate = result.get_statevector(qc)\n",
    "print(qstate)"
   ]
  },
  {
   "cell_type": "markdown",
   "metadata": {},
   "source": [
    "Like it was said above, the target value is easily located, due to it being the \"biggest\" of all the negative numbers in the state vector.<br>\n",
    "One thing we can notice is that the target value is very close to $|1|$ and all of the others, close to $0$, meaning that is the most probable that we reach $| 100 \\rangle$, instead of the other possible states( as we will see bellow)."
   ]
  },
  {
   "cell_type": "code",
   "execution_count": 24,
   "metadata": {},
   "outputs": [],
   "source": [
    "def diffuser(circuit, qr_x):\n",
    "    circuit.h(qr_x)\n",
    "    circuit.x(qr_x)\n",
    "    circuit.h(qr_x[2])\n",
    "    circuit.ccx(qr_x[0],qr_x[1],qr_x[2]) \n",
    "    circuit.h(qr_x[2])\n",
    "    circuit.x(qr_x)\n",
    "    circuit.h(qr_x)"
   ]
  },
  {
   "cell_type": "markdown",
   "metadata": {},
   "source": [
    "## Oracle and Amplification Cycle"
   ]
  },
  {
   "cell_type": "markdown",
   "metadata": {},
   "source": [
    "Now we just need to execute the cycle $\\sqrt{8}$ times, i.e around 2 times."
   ]
  },
  {
   "cell_type": "markdown",
   "metadata": {},
   "source": [
    "### Cycle with 1 iteration\n"
   ]
  },
  {
   "cell_type": "code",
   "execution_count": 25,
   "metadata": {
    "scrolled": true
   },
   "outputs": [
    {
     "data": {
      "image/png": "[encoded data removed]",
      "text/plain": [
       "<Figure size 877.851x264.88 with 1 Axes>"
      ]
     },
     "execution_count": 25,
     "metadata": {},
     "output_type": "execute_result"
    }
   ],
   "source": [
    "qc_final = QuantumCircuit(qr,cr)\n",
    "qc_final = qc_init + qc_final\n",
    "for t in range(1):\n",
    "    # phase oracle \n",
    "    qc_final.barrier()\n",
    "    phase_oracle(qc_final,qr)\n",
    "    # diffuser\n",
    "    qc_final.barrier()\n",
    "    diffuser(qc_final,qr)\n",
    "\n",
    "qc_final.draw(output='mpl')"
   ]
  },
  {
   "cell_type": "markdown",
   "metadata": {},
   "source": [
    "#### State Vector Simulator"
   ]
  },
  {
   "cell_type": "code",
   "execution_count": 26,
   "metadata": {},
   "outputs": [
    {
     "name": "stdout",
     "output_type": "stream",
     "text": [
      "[-0.1767767 -4.32978028e-17j -0.1767767 +2.16489014e-17j\n",
      " -0.1767767 +2.16489014e-17j -0.1767767 +4.32978028e-17j\n",
      " -0.88388348-8.39715590e-17j -0.1767767 -8.09098269e-18j\n",
      " -0.1767767 -8.09098269e-18j -0.1767767 +5.68557215e-17j]\n"
     ]
    }
   ],
   "source": [
    "result = execute(qc_final, backend_vector).result()\n",
    "qstate = result.get_statevector(qc_final)\n",
    "print(qstate)"
   ]
  },
  {
   "cell_type": "markdown",
   "metadata": {},
   "source": [
    "#### Noise Simulator"
   ]
  },
  {
   "cell_type": "code",
   "execution_count": 27,
   "metadata": {},
   "outputs": [
    {
     "data": {
      "image/png": "[encoded data removed]",
      "text/plain": [
       "<Figure size 504x360 with 1 Axes>"
      ]
     },
     "execution_count": 27,
     "metadata": {},
     "output_type": "execute_result"
    }
   ],
   "source": [
    "qc_final.measure(qr,cr)\n",
    "\n",
    "shots=1024\n",
    "result = execute(qc_final, backend, shots=shots).result()\n",
    "counts_sim = result.get_counts(qc_final)\n",
    "plot_histogram(counts_sim)"
   ]
  },
  {
   "cell_type": "markdown",
   "metadata": {},
   "source": [
    "### Cycle with 2 iterations"
   ]
  },
  {
   "cell_type": "code",
   "execution_count": 28,
   "metadata": {},
   "outputs": [
    {
     "data": {
      "image/png": "[encoded data removed]",
      "text/plain": [
       "<Figure size 1600.25x264.88 with 1 Axes>"
      ]
     },
     "execution_count": 28,
     "metadata": {},
     "output_type": "execute_result"
    }
   ],
   "source": [
    "qc_final2 = QuantumCircuit(qr,cr)\n",
    "qc_final2 = qc_init + qc_final2\n",
    "for t in range(2):\n",
    "    # phase oracle \n",
    "    qc_final2.barrier()\n",
    "    phase_oracle(qc_final2,qr)\n",
    "    # diffuser\n",
    "    qc_final2.barrier()\n",
    "    diffuser(qc_final2,qr)\n",
    "\n",
    "\n",
    "qc_final2.draw(output='mpl')"
   ]
  },
  {
   "cell_type": "markdown",
   "metadata": {},
   "source": [
    "#### State Vector Simulator"
   ]
  },
  {
   "cell_type": "code",
   "execution_count": 29,
   "metadata": {},
   "outputs": [
    {
     "name": "stdout",
     "output_type": "stream",
     "text": [
      "[-0.08838835-2.03368781e-17j -0.08838835-9.51242737e-18j\n",
      " -0.08838835-9.51242737e-18j -0.08838835+2.29609247e-17j\n",
      "  0.97227182+1.24645315e-16j -0.08838835-3.79402881e-17j\n",
      " -0.08838835-3.79402881e-17j -0.08838835-2.71158374e-17j]\n"
     ]
    }
   ],
   "source": [
    "result = execute(qc_final2, backend_vector).result()\n",
    "qstate = result.get_statevector(qc_final2)\n",
    "print(qstate)"
   ]
  },
  {
   "cell_type": "markdown",
   "metadata": {},
   "source": [
    "#### Noise Simulator"
   ]
  },
  {
   "cell_type": "code",
   "execution_count": 63,
   "metadata": {},
   "outputs": [
    {
     "data": {
      "image/png": "[encoded data removed]",
      "text/plain": [
       "<Figure size 504x360 with 1 Axes>"
      ]
     },
     "execution_count": 63,
     "metadata": {},
     "output_type": "execute_result"
    }
   ],
   "source": [
    "qc_final2.measure(qr,cr)\n",
    "\n",
    "shots=1024\n",
    "result = execute(qc_final2, backend, shots=shots).result()\n",
    "counts_sim2 = result.get_counts(qc_final2)\n",
    "plot_histogram(counts_sim2)"
   ]
  },
  {
   "cell_type": "markdown",
   "metadata": {},
   "source": [
    "### Cycle with 3 iterations"
   ]
  },
  {
   "cell_type": "code",
   "execution_count": 31,
   "metadata": {},
   "outputs": [
    {
     "data": {
      "image/png": "[encoded data removed]",
      "text/plain": [
       "<Figure size 1600.25x565.88 with 1 Axes>"
      ]
     },
     "execution_count": 31,
     "metadata": {},
     "output_type": "execute_result"
    }
   ],
   "source": [
    "qc_final3 = QuantumCircuit(qr,cr)\n",
    "qc_final3 = qc_init + qc_final3\n",
    "for t in range(3):\n",
    "    # phase oracle \n",
    "    qc_final3.barrier()\n",
    "    phase_oracle(qc_final3,qr)\n",
    "    # diffuser\n",
    "    qc_final3.barrier()\n",
    "    diffuser(qc_final3,qr)\n",
    "\n",
    "qc_final3.draw(output='mpl')"
   ]
  },
  {
   "cell_type": "markdown",
   "metadata": {},
   "source": [
    "#### State Vector Simulator"
   ]
  },
  {
   "cell_type": "code",
   "execution_count": 32,
   "metadata": {},
   "outputs": [
    {
     "name": "stdout",
     "output_type": "stream",
     "text": [
      "[ 0.30935922-1.34484974e-17j  0.30935922+1.36126294e-17j\n",
      "  0.30935922+1.36126294e-17j  0.30935922+8.20040404e-18j\n",
      " -0.57452426-1.03652425e-16j  0.30935922+1.29566177e-17j\n",
      "  0.30935922+1.29566177e-17j  0.30935922+4.00177445e-17j]\n"
     ]
    }
   ],
   "source": [
    "result = execute(qc_final3, backend_vector).result()\n",
    "qstate = result.get_statevector(qc_final3)\n",
    "print(qstate)"
   ]
  },
  {
   "cell_type": "markdown",
   "metadata": {},
   "source": [
    "#### Noise Simulator"
   ]
  },
  {
   "cell_type": "code",
   "execution_count": 33,
   "metadata": {},
   "outputs": [
    {
     "data": {
      "image/png": "[encoded data removed]",
      "text/plain": [
       "<Figure size 504x360 with 1 Axes>"
      ]
     },
     "execution_count": 33,
     "metadata": {},
     "output_type": "execute_result"
    }
   ],
   "source": [
    "qc_final3.measure(qr,cr)\n",
    "\n",
    "shots=1024\n",
    "result = execute(qc_final3, backend, shots=shots).result()\n",
    "counts_sim = result.get_counts(qc_final3)\n",
    "plot_histogram(counts_sim)"
   ]
  },
  {
   "cell_type": "markdown",
   "metadata": {},
   "source": [
    "With the above, we can conclude that the best optimisation is when we use 2 iterations of the cycle.<br>\n",
    "Apart from the Noise simulator, in which we can clearly see what is the best decision, the state vector simulator help us find what is the best option."
   ]
  },
  {
   "cell_type": "markdown",
   "metadata": {},
   "source": [
    "And like that, with this algorithm implementation, we can reach a very high probability of finding our target value, in this case, $| 100 \\rangle$ or $4$ in decimal."
   ]
  },
  {
   "cell_type": "markdown",
   "metadata": {},
   "source": [
    "## Run in a quantum computer\n"
   ]
  },
  {
   "cell_type": "code",
   "execution_count": 43,
   "metadata": {},
   "outputs": [
    {
     "data": {
      "text/plain": [
       "[<IBMQSimulator('ibmq_qasm_simulator') from IBMQ(hub='ibm-q', group='open', project='main')>,\n",
       " <IBMQBackend('ibmqx2') from IBMQ(hub='ibm-q', group='open', project='main')>,\n",
       " <IBMQBackend('ibmq_16_melbourne') from IBMQ(hub='ibm-q', group='open', project='main')>,\n",
       " <IBMQBackend('ibmq_armonk') from IBMQ(hub='ibm-q', group='open', project='main')>,\n",
       " <IBMQBackend('ibmq_athens') from IBMQ(hub='ibm-q', group='open', project='main')>,\n",
       " <IBMQBackend('ibmq_santiago') from IBMQ(hub='ibm-q', group='open', project='main')>,\n",
       " <IBMQBackend('ibmq_lima') from IBMQ(hub='ibm-q', group='open', project='main')>,\n",
       " <IBMQBackend('ibmq_belem') from IBMQ(hub='ibm-q', group='open', project='main')>,\n",
       " <IBMQBackend('ibmq_quito') from IBMQ(hub='ibm-q', group='open', project='main')>,\n",
       " <IBMQSimulator('simulator_statevector') from IBMQ(hub='ibm-q', group='open', project='main')>,\n",
       " <IBMQSimulator('simulator_mps') from IBMQ(hub='ibm-q', group='open', project='main')>,\n",
       " <IBMQSimulator('simulator_extended_stabilizer') from IBMQ(hub='ibm-q', group='open', project='main')>,\n",
       " <IBMQSimulator('simulator_stabilizer') from IBMQ(hub='ibm-q', group='open', project='main')>,\n",
       " <IBMQBackend('ibmq_manila') from IBMQ(hub='ibm-q', group='open', project='main')>]"
      ]
     },
     "execution_count": 43,
     "metadata": {},
     "output_type": "execute_result"
    }
   ],
   "source": [
    "provider = IBMQ.load_account()\n",
    "provider.backends()"
   ]
  },
  {
   "cell_type": "code",
   "execution_count": 44,
   "metadata": {},
   "outputs": [
    {
     "data": {
      "application/vnd.jupyter.widget-view+json": {
       "model_id": "dcf81f3998114d09afa6a17248815060",
       "version_major": 2,
       "version_minor": 0
      },
      "text/plain": [
       "VBox(children=(HTML(value=\"<h2 style ='color:#ffffff; background-color:#000000;padding-top: 1%; padding-bottom…"
      ]
     },
     "metadata": {},
     "output_type": "display_data"
    }
   ],
   "source": [
    "# Backend overview\n",
    "import qiskit.tools.jupyter\n",
    "\n",
    "%qiskit_backend_overview"
   ]
  },
  {
   "cell_type": "code",
   "execution_count": 45,
   "metadata": {},
   "outputs": [
    {
     "name": "stdout",
     "output_type": "stream",
     "text": [
      "ibmq_manila                  ibmq_quito                   ibmq_belem\n",
      "-----------                  ----------                   ----------\n",
      "Num. Qubits:  5              Num. Qubits:  5              Num. Qubits:  5\n",
      "Pending Jobs: 9              Pending Jobs: 15             Pending Jobs: 3\n",
      "Least busy:   False          Least busy:   False          Least busy:   False\n",
      "Operational:  True           Operational:  True           Operational:  True\n",
      "Avg. T1:      140.4          Avg. T1:      84.8           Avg. T1:      78.1\n",
      "Avg. T2:      67.9           Avg. T2:      74.6           Avg. T2:      77.5\n",
      "\n",
      "\n",
      "\n",
      "ibmq_lima                    ibmq_santiago                ibmq_athens\n",
      "---------                    -------------                -----------\n",
      "Num. Qubits:  5              Num. Qubits:  5              Num. Qubits:  5\n",
      "Pending Jobs: 7              Pending Jobs: 10             Pending Jobs: 6\n",
      "Least busy:   False          Least busy:   False          Least busy:   False\n",
      "Operational:  True           Operational:  True           Operational:  True\n",
      "Avg. T1:      56.5           Avg. T1:      116.2          Avg. T1:      84.2\n",
      "Avg. T2:      62.4           Avg. T2:      130.7          Avg. T2:      102.4\n",
      "\n",
      "\n",
      "\n",
      "ibmq_armonk                  ibmq_16_melbourne            ibmqx2\n",
      "-----------                  -----------------            ------\n",
      "Num. Qubits:  1              Num. Qubits:  15             Num. Qubits:  5\n",
      "Pending Jobs: 39             Pending Jobs: 8              Pending Jobs: 1\n",
      "Least busy:   False          Least busy:   False          Least busy:   True\n",
      "Operational:  True           Operational:  True           Operational:  True\n",
      "Avg. T1:      185.5          Avg. T1:      58.7           Avg. T1:      58.5\n",
      "Avg. T2:      256.7          Avg. T2:      56.1           Avg. T2:      40.8\n",
      "\n",
      "\n",
      "\n"
     ]
    }
   ],
   "source": [
    "from qiskit.tools.monitor import backend_overview, backend_monitor\n",
    "\n",
    "backend_overview()"
   ]
  },
  {
   "cell_type": "markdown",
   "metadata": {},
   "source": [
    "Out of curiosity let's run the circuit in 2 different backends to see if we can see the difference between them. For this purpose, we will choose backends with quite different decoherence times and readout error rate."
   ]
  },
  {
   "cell_type": "markdown",
   "metadata": {},
   "source": [
    "### IBMQ Santiago"
   ]
  },
  {
   "cell_type": "code",
   "execution_count": 87,
   "metadata": {},
   "outputs": [
    {
     "name": "stdout",
     "output_type": "stream",
     "text": [
      "Running on:  ibmq_santiago\n"
     ]
    }
   ],
   "source": [
    "backend_device = provider.get_backend('ibmq_santiago')\n",
    "print(\"Running on: \", backend_device)"
   ]
  },
  {
   "cell_type": "code",
   "execution_count": 88,
   "metadata": {
    "scrolled": false
   },
   "outputs": [
    {
     "data": {
      "application/vnd.jupyter.widget-view+json": {
       "model_id": "037336700f12423c8df39d36cb7addf4",
       "version_major": 2,
       "version_minor": 0
      },
      "text/plain": [
       "VBox(children=(HTML(value=\"<h1 style='color:#ffffff;background-color:#000000;padding-top: 1%;padding-bottom: 1…"
      ]
     },
     "metadata": {},
     "output_type": "display_data"
    },
    {
     "data": {
      "text/plain": [
       "<IBMQBackend('ibmq_santiago') from IBMQ(hub='ibm-q', group='open', project='main')>"
      ]
     },
     "execution_count": 88,
     "metadata": {},
     "output_type": "execute_result"
    }
   ],
   "source": [
    "backend_device"
   ]
  },
  {
   "cell_type": "code",
   "execution_count": 59,
   "metadata": {},
   "outputs": [
    {
     "data": {
      "application/vnd.jupyter.widget-view+json": {
       "model_id": "cec5df7782f949b18e4c74e75614bca5",
       "version_major": 2,
       "version_minor": 0
      },
      "text/plain": [
       "Accordion(children=(VBox(layout=Layout(max_width='710px', min_width='710px')),), layout=Layout(max_height='500…"
      ]
     },
     "metadata": {},
     "output_type": "display_data"
    },
    {
     "data": {
      "application/javascript": [
       "$('div.job_widget')\n",
       "        .detach()\n",
       "        .appendTo($('#header'))\n",
       "        .css({\n",
       "            'z-index': 999,\n",
       "             'position': 'fixed',\n",
       "            'box-shadow': '5px 5px 5px -3px black',\n",
       "            'opacity': 0.95,\n",
       "            'float': 'left,'\n",
       "        })\n",
       "        "
      ],
      "text/plain": [
       "<IPython.core.display.Javascript object>"
      ]
     },
     "metadata": {},
     "output_type": "display_data"
    }
   ],
   "source": [
    "%qiskit_job_watcher"
   ]
  },
  {
   "cell_type": "code",
   "execution_count": 89,
   "metadata": {},
   "outputs": [
    {
     "name": "stdout",
     "output_type": "stream",
     "text": [
      "JOB ID: 60ba38405f4eaac33fdadc02\n"
     ]
    }
   ],
   "source": [
    "job_r = execute(qc_final2, backend_device, shots=shots)\n",
    "\n",
    "jobID_r = job_r.job_id()\n",
    "\n",
    "print('JOB ID: {}'.format(jobID_r))"
   ]
  },
  {
   "cell_type": "code",
   "execution_count": 90,
   "metadata": {},
   "outputs": [],
   "source": [
    "job_get=backend_device.retrieve_job(\"60ba38405f4eaac33fdadc02\")\n",
    "\n",
    "result_r_santiago = job_get.result()\n",
    "counts_run_santiago = result_r_santiago.get_counts(qc_final2)"
   ]
  },
  {
   "cell_type": "code",
   "execution_count": 91,
   "metadata": {},
   "outputs": [
    {
     "data": {
      "image/png": "[encoded data removed]",
      "text/plain": [
       "<Figure size 504x360 with 1 Axes>"
      ]
     },
     "execution_count": 91,
     "metadata": {},
     "output_type": "execute_result"
    }
   ],
   "source": [
    "plot_histogram([counts_run_santiago, counts_sim2 ], legend=[ 'run in real device', 'ideal'], color=['#061727','#82cfff'])"
   ]
  },
  {
   "cell_type": "markdown",
   "metadata": {},
   "source": [
    "### IBMQ Lima"
   ]
  },
  {
   "cell_type": "code",
   "execution_count": 68,
   "metadata": {},
   "outputs": [
    {
     "name": "stdout",
     "output_type": "stream",
     "text": [
      "Running on:  ibmq_lima\n"
     ]
    }
   ],
   "source": [
    "backend_device = provider.get_backend('ibmq_lima')\n",
    "print(\"Running on: \", backend_device)"
   ]
  },
  {
   "cell_type": "code",
   "execution_count": 69,
   "metadata": {},
   "outputs": [
    {
     "data": {
      "application/vnd.jupyter.widget-view+json": {
       "model_id": "f1d7b2ce05e64020adb6b94960f7f80a",
       "version_major": 2,
       "version_minor": 0
      },
      "text/plain": [
       "VBox(children=(HTML(value=\"<h1 style='color:#ffffff;background-color:#000000;padding-top: 1%;padding-bottom: 1…"
      ]
     },
     "metadata": {},
     "output_type": "display_data"
    },
    {
     "data": {
      "text/plain": [
       "<IBMQBackend('ibmq_lima') from IBMQ(hub='ibm-q', group='open', project='main')>"
      ]
     },
     "execution_count": 69,
     "metadata": {},
     "output_type": "execute_result"
    }
   ],
   "source": [
    "backend_device"
   ]
  },
  {
   "cell_type": "code",
   "execution_count": 70,
   "metadata": {},
   "outputs": [
    {
     "name": "stdout",
     "output_type": "stream",
     "text": [
      "JOB ID: 60ba337b5f4eaa0be9dadbc5\n"
     ]
    }
   ],
   "source": [
    "job_r = execute(qc_final2, backend_device, shots=shots)\n",
    "\n",
    "jobID_r = job_r.job_id()\n",
    "\n",
    "print('JOB ID: {}'.format(jobID_r))"
   ]
  },
  {
   "cell_type": "code",
   "execution_count": 71,
   "metadata": {},
   "outputs": [],
   "source": [
    "job_get=backend_device.retrieve_job(\"60ba337b5f4eaa0be9dadbc5\")\n",
    "\n",
    "result_r = job_get.result()\n",
    "counts_run = result_r.get_counts(qc_final2)"
   ]
  },
  {
   "cell_type": "code",
   "execution_count": 72,
   "metadata": {
    "scrolled": true
   },
   "outputs": [
    {
     "data": {
      "image/png": "[encoded data removed]",
      "text/plain": [
       "<Figure size 504x360 with 1 Axes>"
      ]
     },
     "execution_count": 72,
     "metadata": {},
     "output_type": "execute_result"
    }
   ],
   "source": [
    "plot_histogram([counts_run, counts_sim2 ], legend=[ 'run in real device', 'ideal'], color=['#061727','#82cfff'])"
   ]
  },
  {
   "cell_type": "markdown",
   "metadata": {},
   "source": [
    "After executing our circuit on both backends, we can notice the \"ibmq_santiago\" gives us better results, this is because it has better decoherence times and a smaller readout error rate than the \"ibmq_lima\" backend."
   ]
  },
  {
   "cell_type": "markdown",
   "metadata": {},
   "source": [
    "## IGNIS"
   ]
  },
  {
   "cell_type": "markdown",
   "metadata": {},
   "source": [
    "Now we want to mitigate the measurement errors, so we will use the IGNIS tool to help us."
   ]
  },
  {
   "cell_type": "code",
   "execution_count": 93,
   "metadata": {},
   "outputs": [],
   "source": [
    "from qiskit.ignis.mitigation.measurement import (complete_meas_cal, tensored_meas_cal,\n",
    "                                                 CompleteMeasFitter, TensoredMeasFitter)"
   ]
  },
  {
   "cell_type": "markdown",
   "metadata": {},
   "source": [
    "### Calibration Matrices"
   ]
  },
  {
   "cell_type": "markdown",
   "metadata": {},
   "source": [
    "First, we need to generate a list of measurement calibration circuits.\n",
    "Since there we measure 3 qubits, we need $2^3 = 8$ calibration circuits."
   ]
  },
  {
   "cell_type": "code",
   "execution_count": 105,
   "metadata": {},
   "outputs": [],
   "source": [
    "qr = QuantumRegister(3)\n",
    "\n",
    "meas_calibs, state_labels = complete_meas_cal(qubit_list=[0,1,2], qr=qr, circlabel='mcal')"
   ]
  },
  {
   "cell_type": "code",
   "execution_count": 95,
   "metadata": {},
   "outputs": [
    {
     "data": {
      "text/plain": [
       "['000', '001', '010', '011', '100', '101', '110', '111']"
      ]
     },
     "execution_count": 95,
     "metadata": {},
     "output_type": "execute_result"
    }
   ],
   "source": [
    "state_labels"
   ]
  },
  {
   "cell_type": "markdown",
   "metadata": {},
   "source": [
    "#### Computing the calibration matrix"
   ]
  },
  {
   "cell_type": "markdown",
   "metadata": {},
   "source": [
    "With the next step, we will be able to notice the device noise. We will achieve that by gathering the measured results and using the list of measurement calibration, to generate a matrix similiar with the Identity matrix, where on diagonal is filled with the black color and the rest with white, with the only difference in this case the position where it was supposed to be white, might have shades of grey, indicating noise interference. "
   ]
  },
  {
   "cell_type": "code",
   "execution_count": 96,
   "metadata": {},
   "outputs": [
    {
     "name": "stdout",
     "output_type": "stream",
     "text": [
      "Running on:  ibmq_santiago\n"
     ]
    }
   ],
   "source": [
    "backend_device = provider.get_backend('ibmq_santiago')\n",
    "print(\"Running on: \", backend_device)"
   ]
  },
  {
   "cell_type": "code",
   "execution_count": 97,
   "metadata": {},
   "outputs": [
    {
     "name": "stdout",
     "output_type": "stream",
     "text": [
      "JOB ID: 60ba38ecfe8ff1f1a929d824\n"
     ]
    }
   ],
   "source": [
    "job_ignis = execute(meas_calibs, backend=backend_device, shots=shots)\n",
    "\n",
    "jobID_run_ignis = job_ignis.job_id()\n",
    "\n",
    "print('JOB ID: {}'.format(jobID_run_ignis))"
   ]
  },
  {
   "cell_type": "code",
   "execution_count": 100,
   "metadata": {},
   "outputs": [],
   "source": [
    "job_get=backend_device.retrieve_job(\"60ba38ecfe8ff1f1a929d824\")\n",
    "\n",
    "cal_results = job_get.result()"
   ]
  },
  {
   "cell_type": "code",
   "execution_count": 101,
   "metadata": {
    "scrolled": true
   },
   "outputs": [
    {
     "data": {
      "image/png": "[encoded data removed]",
      "text/plain": [
       "<Figure size 432x288 with 2 Axes>"
      ]
     },
     "metadata": {
      "needs_background": "light"
     },
     "output_type": "display_data"
    }
   ],
   "source": [
    "meas_fitter = CompleteMeasFitter(cal_results, state_labels, circlabel='mcal')\n",
    "\n",
    "meas_fitter.plot_calibration()"
   ]
  },
  {
   "cell_type": "markdown",
   "metadata": {},
   "source": [
    "#### Average assignment fidelity "
   ]
  },
  {
   "cell_type": "code",
   "execution_count": 102,
   "metadata": {},
   "outputs": [
    {
     "name": "stdout",
     "output_type": "stream",
     "text": [
      "Average Measurement Fidelity: 0.944702\n"
     ]
    }
   ],
   "source": [
    "print(\"Average Measurement Fidelity: %f\" % meas_fitter.readout_fidelity())"
   ]
  },
  {
   "cell_type": "markdown",
   "metadata": {},
   "source": [
    "As we can se above, there are some grey positions where it should be white, meaning that exists some device noise.<br>\n",
    "To show the measurement fidelity isn't $100$%, we executed a function that gives us the average measurement fidelity, confirming that it is about $94.5$%, showing us the presence of noise.\n"
   ]
  },
  {
   "cell_type": "markdown",
   "metadata": {},
   "source": [
    "### Applying Calibration"
   ]
  },
  {
   "cell_type": "markdown",
   "metadata": {},
   "source": [
    "Our raw data can be the `result_r_santiago`, since it was the data where we got the best results. We can apply a filter based on the calibration matrix to get mitigated counts."
   ]
  },
  {
   "cell_type": "code",
   "execution_count": 103,
   "metadata": {},
   "outputs": [],
   "source": [
    "meas_filter = meas_fitter.filter\n",
    "\n",
    "mitigated_results = meas_filter.apply(result_r_santiago)\n",
    "mitigated_counts = mitigated_results.get_counts()"
   ]
  },
  {
   "cell_type": "code",
   "execution_count": 104,
   "metadata": {},
   "outputs": [
    {
     "data": {
      "image/png": "[encoded data removed]",
      "text/plain": [
       "<Figure size 504x360 with 1 Axes>"
      ]
     },
     "execution_count": 104,
     "metadata": {},
     "output_type": "execute_result"
    }
   ],
   "source": [
    "plot_histogram([counts_run_santiago, mitigated_counts, counts_sim2], legend=['raw', 'mitigated', 'ideal'])"
   ]
  }
 ],
 "metadata": {
  "kernelspec": {
   "display_name": "Python 3",
   "language": "python",
   "name": "python3"
  },
  "language_info": {
   "codemirror_mode": {
    "name": "ipython",
    "version": 3
   },
   "file_extension": ".py",
   "mimetype": "text/x-python",
   "name": "python",
   "nbconvert_exporter": "python",
   "pygments_lexer": "ipython3",
   "version": "3.8.3"
  }
 },
 "nbformat": 4,
 "nbformat_minor": 4
}
