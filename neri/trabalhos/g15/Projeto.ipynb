{
 "cells": [
  {
   "cell_type": "markdown",
   "metadata": {},
   "source": [
    "# Trabalho Prático de Interação e Concorrência"
   ]
  },
  {
   "cell_type": "markdown",
   "metadata": {},
   "source": [
    "- Pedro Costa A87959\n",
    "- Rui Faria A87957"
   ]
  },
  {
   "cell_type": "markdown",
   "metadata": {},
   "source": [
    "## Enunciado"
   ]
  },
  {
   "cell_type": "markdown",
   "metadata": {},
   "source": [
    "Each group of students has a number assigned, N.\n",
    "\n",
    "Now, you have to use a quantum algorithm to find s\n",
    "##### s = N mod 8\n",
    "in an unsorted list.\n",
    "Implement the correct algorithm in a Jupyter Notebook file. \n",
    "Each work should contain (and will be evaluated on) the following steps:\n",
    "1. Division of the algorithm into sections; Utilisation of the state vector\n",
    "simulator to explain each step (special attention to the oracle);\n",
    "2. Application of noise simulator to predict the best optimisation; \n",
    "3. Execution in an IBM Q backend. \n",
    "4. Mitigation of Error with Ignis."
   ]
  },
  {
   "cell_type": "markdown",
   "metadata": {},
   "source": [
    "## Implementação do Algoritmo de Groover para encontrar $s$"
   ]
  },
  {
   "cell_type": "code",
   "execution_count": 1,
   "metadata": {},
   "outputs": [],
   "source": [
    "# Relevant QISKit modules\n",
    "from qiskit import Aer, IBMQ\n",
    "from qiskit import QuantumCircuit, ClassicalRegister, QuantumRegister\n",
    "from qiskit import execute, transpile\n",
    "\n",
    "from qiskit.tools.visualization import plot_histogram, visualize_transition, plot_state_city, plot_state_hinton\n",
    "\n",
    "# Useful additional packages \n",
    "import matplotlib.pyplot as plt\n",
    "%matplotlib inline"
   ]
  },
  {
   "cell_type": "code",
   "execution_count": 2,
   "metadata": {},
   "outputs": [],
   "source": [
    "backend_vector = Aer.get_backend(\"statevector_simulator\")\n",
    "backend_unitary = Aer.get_backend('unitary_simulator')\n",
    "backend = Aer.get_backend(\"qasm_simulator\")"
   ]
  },
  {
   "cell_type": "markdown",
   "metadata": {},
   "source": [
    "- Queremos encontrar s = N mod 8 numa lista desordenada, onde N é igual ao número do nosso grupo.\n",
    "- Vamos identificar primeiro qual o número que queremos encontrar."
   ]
  },
  {
   "cell_type": "code",
   "execution_count": 3,
   "metadata": {},
   "outputs": [
    {
     "name": "stdout",
     "output_type": "stream",
     "text": [
      "Number that we are looking for: 7\n"
     ]
    }
   ],
   "source": [
    "N = 15\n",
    "s = N % 8\n",
    "print('Number that we are looking for:', s)"
   ]
  },
  {
   "cell_type": "markdown",
   "metadata": {},
   "source": [
    "- Depois passsamos o número para binário."
   ]
  },
  {
   "cell_type": "code",
   "execution_count": 4,
   "metadata": {},
   "outputs": [
    {
     "name": "stdout",
     "output_type": "stream",
     "text": [
      "Number in binary form: 111\n"
     ]
    }
   ],
   "source": [
    "sb = bin(s)[2:] \n",
    "\n",
    "print('Number in binary form:',sb)"
   ]
  },
  {
   "cell_type": "markdown",
   "metadata": {},
   "source": [
    "- Precisamos então de 3 qubits."
   ]
  },
  {
   "cell_type": "code",
   "execution_count": 5,
   "metadata": {},
   "outputs": [
    {
     "name": "stdout",
     "output_type": "stream",
     "text": [
      "Number of qubits: 3\n"
     ]
    }
   ],
   "source": [
    "x = len(sb)\n",
    "print('Number of qubits:', x)"
   ]
  },
  {
   "cell_type": "markdown",
   "metadata": {},
   "source": [
    "**1**  Inicializamos o sistema com a mesma amplitude em todos os estados de input.\n",
    "\n",
    "$$ \\sum_{x_i} \\lvert x_i \\rangle$$"
   ]
  },
  {
   "cell_type": "markdown",
   "metadata": {},
   "source": [
    "**2** Aplica $\\sqrt{N}$ vezes as seguintes operações unitárias:"
   ]
  },
  {
   "cell_type": "markdown",
   "metadata": {},
   "source": [
    "**a)** Operador Quantum Oracle $U_w$. Este operador é responsável por identificar as soluções para o problema e indicar o que estamos à procura.\n",
    "\n",
    "$$-\\alpha_m \\lvert x_m \\rangle + \\beta \\sum_{x_i \\neq x_m}\\lvert x_i \\rangle$$ \n",
    "\n",
    "Com esta implementação, a fase do estado marcado ($f(x_m) = 1$) roda $\\pi$ radianos, enquanto os outros estados mantêm o sistema inalterado."
   ]
  },
  {
   "cell_type": "markdown",
   "metadata": {},
   "source": [
    "Como o oráculo apenas precisa de mudar o estado do que estamos à procura, então basta implementar uma porta $CCZ$, que no qiskit é representada pela composição de portas de $Hadamard$ e da porta $CCX$. Também não precisamos de usar nenhuma porta $X$, pois como queremos encontrar $|7\\rangle = |111\\rangle$ não necessitamos de usar essa porta. "
   ]
  },
  {
   "cell_type": "code",
   "execution_count": 6,
   "metadata": {},
   "outputs": [],
   "source": [
    "def phase_oracle(circuit, qr_x):\n",
    "    circuit.h(qr_x[2])\n",
    "    circuit.ccx(qr_x[0], qr_x[1], qr_x[2])\n",
    "    circuit.h(qr_x[2])"
   ]
  },
  {
   "cell_type": "markdown",
   "metadata": {},
   "source": [
    "Então uma representação do oráculo será:\n",
    "\n",
    "Aplicação da porta de Hadamard\n",
    "$$\n",
    "(I \\otimes I \\otimes H)|000\\rangle = I|0\\rangle \\otimes I|0\\rangle \\otimes H|0\\rangle = \\left[\n",
    "\\begin{array}{c}\n",
    "\\frac{1}{\\sqrt{2}} \\\\\n",
    "\\frac{1}{\\sqrt{2}} \\\\\n",
    "0 \\\\\n",
    "0 \\\\\n",
    "0 \\\\\n",
    "0 \\\\\n",
    "0 \\\\\n",
    "0 \\\\\n",
    "\\end{array}\n",
    "\\right]\n",
    "$$\n",
    "\n",
    "Aplicação da porta CCX\n",
    "$$\n",
    "CCX(|0\\rangle,|0\\rangle,\\frac{|0\\rangle + |1\\rangle}{\\sqrt{2}}) = \\left[\n",
    "\\begin{array}{c}\n",
    "\\frac{1}{\\sqrt{2}} \\\\\n",
    "\\frac{1}{\\sqrt{2}} \\\\\n",
    "0 \\\\\n",
    "0 \\\\\n",
    "0 \\\\\n",
    "0 \\\\\n",
    "0 \\\\\n",
    "0 \\\\\n",
    "\\end{array}\n",
    "\\right]\n",
    "$$\n",
    "\n",
    "Aplicação da porta de Hadamard de novo\n",
    "$$\n",
    "(I \\otimes I \\otimes H)|0\\rangle|0\\rangle(\\frac{|0\\rangle + |1\\rangle}{\\sqrt{2}}) = \\left[\n",
    "\\begin{array}{c}\n",
    "1 \\\\\n",
    "0 \\\\\n",
    "0 \\\\\n",
    "0 \\\\\n",
    "0 \\\\\n",
    "0 \\\\\n",
    "0 \\\\\n",
    "0 \\\\\n",
    "\\end{array}\n",
    "\\right]\n",
    "$$"
   ]
  },
  {
   "cell_type": "code",
   "execution_count": 7,
   "metadata": {},
   "outputs": [
    {
     "data": {
      "image/png": "[encoded data removed]",
      "text/plain": [
       "<Figure size 266.332x204.68 with 1 Axes>"
      ]
     },
     "execution_count": 7,
     "metadata": {},
     "output_type": "execute_result"
    }
   ],
   "source": [
    "qr_x = QuantumRegister(x, 'x')\n",
    "qc = QuantumCircuit(qr_x)\n",
    "phase_oracle(qc, qr_x)\n",
    "\n",
    "qc.draw(output='mpl')"
   ]
  },
  {
   "cell_type": "markdown",
   "metadata": {},
   "source": [
    "Utilização do State Vector para simular os passos."
   ]
  },
  {
   "cell_type": "code",
   "execution_count": 8,
   "metadata": {},
   "outputs": [
    {
     "name": "stdout",
     "output_type": "stream",
     "text": [
      "[1.00000000e+00-6.123234e-17j 0.00000000e+00+0.000000e+00j\n",
      " 0.00000000e+00+0.000000e+00j 0.00000000e+00+0.000000e+00j\n",
      " 4.26642159e-17+6.123234e-17j 0.00000000e+00+0.000000e+00j\n",
      " 0.00000000e+00+0.000000e+00j 0.00000000e+00+0.000000e+00j]\n"
     ]
    }
   ],
   "source": [
    "result = execute(qc, backend_vector).result()\n",
    "qstate = result.get_statevector(qc)\n",
    "print(qstate)"
   ]
  },
  {
   "cell_type": "markdown",
   "metadata": {},
   "source": [
    "**b)** Aplicar a tranformação de difusão $U_D$.  Chega-se à implementação deste operador através de $U_D=WRW$, onde $W$ é a matriz de transformação Walsh-Hadamard , e $R$ é a matriz de rotação.\n",
    "\n",
    "$$(2A + \\alpha_m)\\lvert x_m \\rangle + (2A-\\beta)\\sum_{x_i\\neq x_m} \\lvert x_i \\rangle $$\n",
    "\n",
    "Este passo do algoritmo não só altera o input desejado mas também aumenta a sua amplitude."
   ]
  },
  {
   "cell_type": "code",
   "execution_count": 9,
   "metadata": {},
   "outputs": [],
   "source": [
    "def diffuser(circuit, qr_x):\n",
    "    circuit.h(qr_x)\n",
    "    circuit.x(qr_x)\n",
    "    phase_oracle(circuit, qr_x)\n",
    "    circuit.x(qr_x)\n",
    "    circuit.h(qr_x)"
   ]
  },
  {
   "cell_type": "markdown",
   "metadata": {},
   "source": [
    "Estes passos (a) e (b) têm de ser repetidos $\\sqrt{N}$ vezes para chegar ao valor mais aproximado."
   ]
  },
  {
   "cell_type": "code",
   "execution_count": 10,
   "metadata": {},
   "outputs": [
    {
     "name": "stdout",
     "output_type": "stream",
     "text": [
      "3\n"
     ]
    }
   ],
   "source": [
    "import math as m\n",
    "times= round(m.sqrt(2**x))\n",
    "print(times)"
   ]
  },
  {
   "cell_type": "markdown",
   "metadata": {},
   "source": [
    "- Vamos agora criar um Registo Clássico para guardar a informação após a medição dos qubits e, depois, um Circuito Quântico (circuito de Grover) com um registo quântico $qr\\_x$ e também com o registo clássico $cr$. O circuito é inicializado com a mesma amplitude em todos os estados de input."
   ]
  },
  {
   "cell_type": "code",
   "execution_count": 11,
   "metadata": {},
   "outputs": [
    {
     "data": {
      "image/png": "[encoded data removed]",
      "text/plain": [
       "<Figure size 115.832x264.88 with 1 Axes>"
      ]
     },
     "execution_count": 11,
     "metadata": {},
     "output_type": "execute_result"
    }
   ],
   "source": [
    "cr = ClassicalRegister(x,'cr')\n",
    "qc_Grover = QuantumCircuit(qr_x,cr)\n",
    "qc_Grover.draw(output='mpl')"
   ]
  },
  {
   "cell_type": "markdown",
   "metadata": {},
   "source": [
    "Utilizando o State Vector obtemos a matriz \n",
    "\n",
    "$$\n",
    "|000\\rangle = \\left[\n",
    "\\begin{array}{c}\n",
    "1 \\\\\n",
    "0 \\\\\n",
    "0 \\\\\n",
    "0 \\\\\n",
    "0 \\\\\n",
    "0 \\\\\n",
    "0 \\\\\n",
    "0 \\\\\n",
    "\\end{array}\n",
    "\\right]\n",
    "$$"
   ]
  },
  {
   "cell_type": "code",
   "execution_count": 12,
   "metadata": {},
   "outputs": [
    {
     "name": "stdout",
     "output_type": "stream",
     "text": [
      "[1.+0.j 0.+0.j 0.+0.j 0.+0.j 0.+0.j 0.+0.j 0.+0.j 0.+0.j]\n"
     ]
    }
   ],
   "source": [
    "result = execute(qc_Grover, backend_vector).result()\n",
    "qstate = result.get_statevector(qc_Grover)\n",
    "print(qstate)"
   ]
  },
  {
   "cell_type": "markdown",
   "metadata": {},
   "source": [
    "- Aplicar uma gate de Hadamard a cada qubit, ou seja, aplicar $H^{\\otimes n}$.\n",
    "$$\n",
    "H|000\\rangle = H(|0\\rangle \\otimes |0\\rangle \\otimes |0\\rangle) = H|0\\rangle \\otimes H|0\\rangle \\otimes H|0\\rangle = \\left[\n",
    "\\begin{array}{c}\n",
    "\\frac{1}{2\\sqrt{2}} \\\\\n",
    "\\frac{1}{2\\sqrt{2}} \\\\\n",
    "\\frac{1}{2\\sqrt{2}} \\\\\n",
    "\\frac{1}{2\\sqrt{2}} \\\\\n",
    "\\frac{1}{2\\sqrt{2}} \\\\\n",
    "\\frac{1}{2\\sqrt{2}} \\\\\n",
    "\\frac{1}{2\\sqrt{2}} \\\\\n",
    "\\frac{1}{2\\sqrt{2}} \\\\\n",
    "\\end{array}\n",
    "\\right]\n",
    "$$"
   ]
  },
  {
   "cell_type": "code",
   "execution_count": 13,
   "metadata": {},
   "outputs": [
    {
     "data": {
      "image/png": "[encoded data removed]",
      "text/plain": [
       "<Figure size 206.132x264.88 with 1 Axes>"
      ]
     },
     "execution_count": 13,
     "metadata": {},
     "output_type": "execute_result"
    }
   ],
   "source": [
    "qc_Grover.h(qr_x)\n",
    "qc_Grover.barrier()\n",
    "qc_Grover.draw(output='mpl')"
   ]
  },
  {
   "cell_type": "code",
   "execution_count": 14,
   "metadata": {},
   "outputs": [
    {
     "name": "stdout",
     "output_type": "stream",
     "text": [
      "[0.35355339+0.j 0.35355339+0.j 0.35355339+0.j 0.35355339+0.j\n",
      " 0.35355339+0.j 0.35355339+0.j 0.35355339+0.j 0.35355339+0.j]\n"
     ]
    }
   ],
   "source": [
    "result = execute(qc_Grover, backend_vector).result()\n",
    "qstate = result.get_statevector(qc_Grover)\n",
    "print(qstate)"
   ]
  },
  {
   "cell_type": "markdown",
   "metadata": {},
   "source": [
    "- Como só precisamos de encontrar um elemento, a variável $t$ só é executada uma vez.\n",
    "- Dentro do ciclo for é executado o oráculo."
   ]
  },
  {
   "cell_type": "code",
   "execution_count": 15,
   "metadata": {},
   "outputs": [
    {
     "data": {
      "image/png": "[encoded data removed]",
      "text/plain": [
       "<Figure size 446.932x264.88 with 1 Axes>"
      ]
     },
     "execution_count": 15,
     "metadata": {},
     "output_type": "execute_result"
    }
   ],
   "source": [
    "for t in range(1):\n",
    "    # a)\n",
    "    phase_oracle(qc_Grover, qr_x)\n",
    "    qc_Grover.barrier()\n",
    "\n",
    "qc_Grover.draw(output='mpl')"
   ]
  },
  {
   "cell_type": "code",
   "execution_count": 16,
   "metadata": {},
   "outputs": [
    {
     "name": "stdout",
     "output_type": "stream",
     "text": [
      "[ 0.35355339+4.37824579e-33j  0.35355339+4.37824579e-33j\n",
      "  0.35355339+4.37824579e-33j  0.35355339-4.32978028e-17j\n",
      "  0.35355339-4.32978028e-17j  0.35355339-4.32978028e-17j\n",
      "  0.35355339-4.32978028e-17j -0.35355339+8.65956056e-17j]\n"
     ]
    }
   ],
   "source": [
    "result = execute(qc_Grover, backend_vector).result()\n",
    "qstate = result.get_statevector(qc_Grover)\n",
    "print(qstate)"
   ]
  },
  {
   "cell_type": "markdown",
   "metadata": {},
   "source": [
    "- Agora executamos o difusor."
   ]
  },
  {
   "cell_type": "code",
   "execution_count": 17,
   "metadata": {},
   "outputs": [
    {
     "data": {
      "image/png": "[encoded data removed]",
      "text/plain": [
       "<Figure size 928.532x264.88 with 1 Axes>"
      ]
     },
     "execution_count": 17,
     "metadata": {},
     "output_type": "execute_result"
    }
   ],
   "source": [
    "for t in range(1):\n",
    "    # b)\n",
    "    diffuser(qc_Grover,qr_x)\n",
    "    qc_Grover.barrier()\n",
    "    \n",
    "qc_Grover.draw(output='mpl')"
   ]
  },
  {
   "cell_type": "code",
   "execution_count": 18,
   "metadata": {},
   "outputs": [
    {
     "name": "stdout",
     "output_type": "stream",
     "text": [
      "[-0.1767767 +2.03637921e-35j -0.1767767 +2.16489014e-17j\n",
      " -0.1767767 +2.16489014e-17j -0.1767767 -2.66556279e-32j\n",
      " -0.1767767 +1.35579187e-17j -0.1767767 -8.09098269e-18j\n",
      " -0.1767767 -8.09098269e-18j -0.88388348+1.32517455e-16j]\n"
     ]
    }
   ],
   "source": [
    "result = execute(qc_Grover, backend_vector).result()\n",
    "qstate = result.get_statevector(qc_Grover)\n",
    "print(qstate)"
   ]
  },
  {
   "cell_type": "markdown",
   "metadata": {},
   "source": [
    "- Por fim, medimos o circuito.\n",
    "- Desenho do circuito completo."
   ]
  },
  {
   "cell_type": "code",
   "execution_count": 19,
   "metadata": {},
   "outputs": [
    {
     "data": {
      "image/png": "[encoded data removed]",
      "text/plain": [
       "<Figure size 1109.13x264.88 with 1 Axes>"
      ]
     },
     "execution_count": 19,
     "metadata": {},
     "output_type": "execute_result"
    }
   ],
   "source": [
    "qc_Grover.measure(qr_x,cr)\n",
    "qc_Grover.draw(output='mpl')"
   ]
  },
  {
   "cell_type": "code",
   "execution_count": 20,
   "metadata": {},
   "outputs": [
    {
     "name": "stdout",
     "output_type": "stream",
     "text": [
      "[-0.+0.00000000e+00j -0.+0.00000000e+00j -0.+0.00000000e+00j\n",
      "  0.-0.00000000e+00j -0.+0.00000000e+00j  0.+0.00000000e+00j\n",
      "  0.+0.00000000e+00j -1.+1.49926386e-16j]\n"
     ]
    }
   ],
   "source": [
    "result = execute(qc_Grover, backend_vector).result()\n",
    "qstate = result.get_statevector(qc_Grover)\n",
    "print(qstate)"
   ]
  },
  {
   "cell_type": "markdown",
   "metadata": {},
   "source": [
    "- Desenha o histograma com as probabilidades das medições."
   ]
  },
  {
   "cell_type": "code",
   "execution_count": 21,
   "metadata": {},
   "outputs": [
    {
     "data": {
      "image/png": "[encoded data removed]",
      "text/plain": [
       "<Figure size 504x360 with 1 Axes>"
      ]
     },
     "execution_count": 21,
     "metadata": {},
     "output_type": "execute_result"
    }
   ],
   "source": [
    "shots=1024\n",
    "result = execute(qc_Grover, backend, shots=shots).result()\n",
    "counts_Grover = result.get_counts(qc_Grover)\n",
    "plot_histogram(counts_Grover)"
   ]
  },
  {
   "cell_type": "markdown",
   "metadata": {},
   "source": [
    "- Profundidade do circuito, caminho mais longo entre o input e o output."
   ]
  },
  {
   "cell_type": "code",
   "execution_count": 22,
   "metadata": {},
   "outputs": [
    {
     "data": {
      "text/plain": [
       "12"
      ]
     },
     "execution_count": 22,
     "metadata": {},
     "output_type": "execute_result"
    }
   ],
   "source": [
    "qc_Grover.depth()"
   ]
  },
  {
   "cell_type": "markdown",
   "metadata": {},
   "source": [
    "## Noise Simulator"
   ]
  },
  {
   "cell_type": "markdown",
   "metadata": {},
   "source": [
    "- Load da Conta IBMQ."
   ]
  },
  {
   "cell_type": "code",
   "execution_count": 23,
   "metadata": {},
   "outputs": [
    {
     "data": {
      "text/plain": [
       "[<IBMQSimulator('ibmq_qasm_simulator') from IBMQ(hub='ibm-q', group='open', project='main')>,\n",
       " <IBMQBackend('ibmqx2') from IBMQ(hub='ibm-q', group='open', project='main')>,\n",
       " <IBMQBackend('ibmq_16_melbourne') from IBMQ(hub='ibm-q', group='open', project='main')>,\n",
       " <IBMQBackend('ibmq_armonk') from IBMQ(hub='ibm-q', group='open', project='main')>,\n",
       " <IBMQBackend('ibmq_athens') from IBMQ(hub='ibm-q', group='open', project='main')>,\n",
       " <IBMQBackend('ibmq_santiago') from IBMQ(hub='ibm-q', group='open', project='main')>,\n",
       " <IBMQBackend('ibmq_lima') from IBMQ(hub='ibm-q', group='open', project='main')>,\n",
       " <IBMQBackend('ibmq_belem') from IBMQ(hub='ibm-q', group='open', project='main')>,\n",
       " <IBMQBackend('ibmq_quito') from IBMQ(hub='ibm-q', group='open', project='main')>,\n",
       " <IBMQSimulator('simulator_statevector') from IBMQ(hub='ibm-q', group='open', project='main')>,\n",
       " <IBMQSimulator('simulator_mps') from IBMQ(hub='ibm-q', group='open', project='main')>,\n",
       " <IBMQSimulator('simulator_extended_stabilizer') from IBMQ(hub='ibm-q', group='open', project='main')>,\n",
       " <IBMQSimulator('simulator_stabilizer') from IBMQ(hub='ibm-q', group='open', project='main')>,\n",
       " <IBMQBackend('ibmq_manila') from IBMQ(hub='ibm-q', group='open', project='main')>]"
      ]
     },
     "execution_count": 23,
     "metadata": {},
     "output_type": "execute_result"
    }
   ],
   "source": [
    "provider = IBMQ.load_account()\n",
    "provider.backends()"
   ]
  },
  {
   "cell_type": "markdown",
   "metadata": {},
   "source": [
    "- Visualização dos Computadores Quânticos. "
   ]
  },
  {
   "cell_type": "code",
   "execution_count": 24,
   "metadata": {},
   "outputs": [
    {
     "data": {
      "application/vnd.jupyter.widget-view+json": {
       "model_id": "13b2a06720b74e7fa7bed4dc037d0034",
       "version_major": 2,
       "version_minor": 0
      },
      "text/plain": [
       "VBox(children=(HTML(value=\"<h2 style ='color:#ffffff; background-color:#000000;padding-top: 1%; padding-bottom…"
      ]
     },
     "metadata": {},
     "output_type": "display_data"
    }
   ],
   "source": [
    "import qiskit.tools.jupyter\n",
    "\n",
    "%qiskit_backend_overview"
   ]
  },
  {
   "cell_type": "markdown",
   "metadata": {},
   "source": [
    "- Ver informações em específico sobre qual o computador quântico menos ocupado no momento."
   ]
  },
  {
   "cell_type": "code",
   "execution_count": 25,
   "metadata": {
    "scrolled": true
   },
   "outputs": [
    {
     "name": "stdout",
     "output_type": "stream",
     "text": [
      "Running on current least busy device:  ibmqx2\n"
     ]
    },
    {
     "data": {
      "application/vnd.jupyter.widget-view+json": {
       "model_id": "1fcae7841e5d400a9d93d9564a94b74f",
       "version_major": 2,
       "version_minor": 0
      },
      "text/plain": [
       "VBox(children=(HTML(value=\"<h1 style='color:#ffffff;background-color:#000000;padding-top: 1%;padding-bottom: 1…"
      ]
     },
     "metadata": {},
     "output_type": "display_data"
    },
    {
     "data": {
      "text/plain": [
       "<IBMQBackend('ibmqx2') from IBMQ(hub='ibm-q', group='open', project='main')>"
      ]
     },
     "execution_count": 25,
     "metadata": {},
     "output_type": "execute_result"
    }
   ],
   "source": [
    "backends_list =provider.backends( simulator=False, open_pulse=False)\n",
    "\n",
    "from qiskit.providers.ibmq import least_busy\n",
    "\n",
    "backend_device = least_busy(backends_list)\n",
    "print(\"Running on current least busy device: \", backend_device)\n",
    "\n",
    "backend_device"
   ]
  },
  {
   "cell_type": "code",
   "execution_count": 26,
   "metadata": {},
   "outputs": [],
   "source": [
    "coupling_map = backend_device.configuration().coupling_map"
   ]
  },
  {
   "cell_type": "code",
   "execution_count": 27,
   "metadata": {},
   "outputs": [],
   "source": [
    "from qiskit.providers.aer.noise import NoiseModel"
   ]
  },
  {
   "cell_type": "markdown",
   "metadata": {},
   "source": [
    "- Construção do modelo Noise a partir de propriedades backend."
   ]
  },
  {
   "cell_type": "code",
   "execution_count": 28,
   "metadata": {},
   "outputs": [
    {
     "name": "stdout",
     "output_type": "stream",
     "text": [
      "NoiseModel:\n",
      "  Basis gates: ['cx', 'id', 'reset', 'rz', 'sx', 'x']\n",
      "  Instructions with noise: ['cx', 'reset', 'measure', 'x', 'sx', 'id']\n",
      "  Qubits with noise: [0, 1, 2, 3, 4]\n",
      "  Specific qubit errors: [('id', [0]), ('id', [1]), ('id', [2]), ('id', [3]), ('id', [4]), ('sx', [0]), ('sx', [1]), ('sx', [2]), ('sx', [3]), ('sx', [4]), ('x', [0]), ('x', [1]), ('x', [2]), ('x', [3]), ('x', [4]), ('cx', [4, 2]), ('cx', [2, 4]), ('cx', [3, 4]), ('cx', [4, 3]), ('cx', [3, 2]), ('cx', [2, 3]), ('cx', [1, 2]), ('cx', [2, 1]), ('cx', [0, 2]), ('cx', [2, 0]), ('cx', [0, 1]), ('cx', [1, 0]), ('reset', [0]), ('reset', [1]), ('reset', [2]), ('reset', [3]), ('reset', [4]), ('measure', [0]), ('measure', [1]), ('measure', [2]), ('measure', [3]), ('measure', [4])]\n"
     ]
    }
   ],
   "source": [
    "noise_model = NoiseModel.from_backend(backend_device)\n",
    "print(noise_model)"
   ]
  },
  {
   "cell_type": "markdown",
   "metadata": {},
   "source": [
    "- Obter os gates base do modelo noise."
   ]
  },
  {
   "cell_type": "code",
   "execution_count": 29,
   "metadata": {},
   "outputs": [
    {
     "name": "stdout",
     "output_type": "stream",
     "text": [
      "['cx', 'id', 'reset', 'rz', 'sx', 'x']\n"
     ]
    }
   ],
   "source": [
    "basis_gates = noise_model.basis_gates\n",
    "print(basis_gates)"
   ]
  },
  {
   "cell_type": "markdown",
   "metadata": {},
   "source": [
    "- Executa simulação do modelo noise e obtém os counts."
   ]
  },
  {
   "cell_type": "code",
   "execution_count": 30,
   "metadata": {},
   "outputs": [
    {
     "data": {
      "image/png": "[encoded data removed]",
      "text/plain": [
       "<Figure size 504x360 with 1 Axes>"
      ]
     },
     "execution_count": 30,
     "metadata": {},
     "output_type": "execute_result"
    }
   ],
   "source": [
    "result_noise = execute(qc_Grover, backend, \n",
    "                       noise_model=noise_model,\n",
    "                       coupling_map=coupling_map,\n",
    "                       basis_gates=basis_gates).result()\n",
    "\n",
    "counts_noise = result_noise.get_counts(qc_Grover)\n",
    "plot_histogram(counts_noise, title=\"Counts for Grover with depolarizing noise model\")"
   ]
  },
  {
   "cell_type": "markdown",
   "metadata": {},
   "source": [
    "- Imprime o count de Grover."
   ]
  },
  {
   "cell_type": "code",
   "execution_count": 31,
   "metadata": {},
   "outputs": [
    {
     "name": "stdout",
     "output_type": "stream",
     "text": [
      "{'111': 782, '001': 33, '110': 37, '000': 38, '011': 32, '100': 32, '010': 35, '101': 35}\n"
     ]
    }
   ],
   "source": [
    "print(counts_Grover)"
   ]
  },
  {
   "cell_type": "markdown",
   "metadata": {},
   "source": [
    "- Imprime o count do modelo noise."
   ]
  },
  {
   "cell_type": "code",
   "execution_count": 32,
   "metadata": {},
   "outputs": [
    {
     "name": "stdout",
     "output_type": "stream",
     "text": [
      "{'111': 434, '011': 99, '101': 104, '000': 60, '110': 115, '001': 71, '010': 74, '100': 67}\n"
     ]
    }
   ],
   "source": [
    "print(counts_noise)"
   ]
  },
  {
   "cell_type": "code",
   "execution_count": 33,
   "metadata": {},
   "outputs": [],
   "source": [
    "def resume(counts_raw):\n",
    "    s0=s1=0\n",
    "    k=counts_raw.keys()\n",
    "    lk=list(k)\n",
    "    for c in lk:\n",
    "        if c[0]=='0':\n",
    "            s0 = s0 + counts_raw.get(c)\n",
    "        else:\n",
    "            s1 = s1 + counts_raw.get(c)\n",
    "    return({'0':s0, '1':s1})"
   ]
  },
  {
   "cell_type": "code",
   "execution_count": 34,
   "metadata": {},
   "outputs": [],
   "source": [
    "cn = resume(counts_noise)\n",
    "c = resume(counts_Grover)"
   ]
  },
  {
   "cell_type": "markdown",
   "metadata": {},
   "source": [
    "- Desenha o histograma."
   ]
  },
  {
   "cell_type": "code",
   "execution_count": 35,
   "metadata": {},
   "outputs": [
    {
     "data": {
      "image/png": "[encoded data removed]",
      "text/plain": [
       "<Figure size 504x360 with 1 Axes>"
      ]
     },
     "execution_count": 35,
     "metadata": {},
     "output_type": "execute_result"
    }
   ],
   "source": [
    "plot_histogram([c,cn], legend= ['simulation','simulation with noise'], color=['#061727','#82cfff'])"
   ]
  },
  {
   "cell_type": "markdown",
   "metadata": {},
   "source": [
    "## IBM Q Provider"
   ]
  },
  {
   "cell_type": "markdown",
   "metadata": {},
   "source": [
    "Devolve a lista dos computadores quânticos."
   ]
  },
  {
   "cell_type": "code",
   "execution_count": 36,
   "metadata": {},
   "outputs": [
    {
     "name": "stdout",
     "output_type": "stream",
     "text": [
      "ibmq_manila                  ibmq_quito                   ibmq_belem\n",
      "-----------                  ----------                   ----------\n",
      "Num. Qubits:  5              Num. Qubits:  5              Num. Qubits:  5\n",
      "Pending Jobs: 23             Pending Jobs: 19             Pending Jobs: 0\n",
      "Least busy:   False          Least busy:   False          Least busy:   True\n",
      "Operational:  True           Operational:  True           Operational:  True\n",
      "Avg. T1:      148.5          Avg. T1:      80.3           Avg. T1:      75.9\n",
      "Avg. T2:      68.2           Avg. T2:      71.2           Avg. T2:      75.6\n",
      "\n",
      "\n",
      "\n",
      "ibmq_lima                    ibmq_santiago                ibmq_athens\n",
      "---------                    -------------                -----------\n",
      "Num. Qubits:  5              Num. Qubits:  5              Num. Qubits:  5\n",
      "Pending Jobs: 7              Pending Jobs: 24             Pending Jobs: 3\n",
      "Least busy:   False          Least busy:   False          Least busy:   False\n",
      "Operational:  True           Operational:  True           Operational:  True\n",
      "Avg. T1:      62.4           Avg. T1:      120.9          Avg. T1:      90.2\n",
      "Avg. T2:      50.6           Avg. T2:      100.7          Avg. T2:      104.1\n",
      "\n",
      "\n",
      "\n",
      "ibmq_armonk                  ibmq_16_melbourne            ibmqx2\n",
      "-----------                  -----------------            ------\n",
      "Num. Qubits:  1              Num. Qubits:  15             Num. Qubits:  5\n",
      "Pending Jobs: 2              Pending Jobs: 19             Pending Jobs: 1\n",
      "Least busy:   False          Least busy:   False          Least busy:   False\n",
      "Operational:  True           Operational:  True           Operational:  True\n",
      "Avg. T1:      169.7          Avg. T1:      54.6           Avg. T1:      58.6\n",
      "Avg. T2:      261.0          Avg. T2:      53.1           Avg. T2:      35.8\n",
      "\n",
      "\n",
      "\n"
     ]
    }
   ],
   "source": [
    "from qiskit.tools.monitor import backend_overview, backend_monitor\n",
    "\n",
    "backend_overview()"
   ]
  },
  {
   "cell_type": "markdown",
   "metadata": {},
   "source": [
    "- Vamos ver qual o computador quântico menos ocupado."
   ]
  },
  {
   "cell_type": "code",
   "execution_count": 37,
   "metadata": {},
   "outputs": [
    {
     "name": "stdout",
     "output_type": "stream",
     "text": [
      "Running on current least busy device:  ibmqx2\n"
     ]
    }
   ],
   "source": [
    "print(\"Running on current least busy device: \", backend_device)"
   ]
  },
  {
   "cell_type": "code",
   "execution_count": 38,
   "metadata": {},
   "outputs": [
    {
     "name": "stdout",
     "output_type": "stream",
     "text": [
      "ibmqx2\n",
      "======\n",
      "Configuration\n",
      "-------------\n",
      "    n_qubits: 5\n",
      "    operational: True\n",
      "    status_msg: active\n",
      "    pending_jobs: 1\n",
      "    backend_version: 2.3.6\n",
      "    basis_gates: ['id', 'rz', 'sx', 'x', 'cx', 'reset']\n",
      "    local: False\n",
      "    simulator: False\n",
      "    conditional: False\n",
      "    meas_kernels: ['hw_boxcar']\n",
      "    qubit_lo_range: [[4.78233846827291e+18, 5.78233846827291e+18], [4.747504372507464e+18, 5.747504372507464e+18], [4.533385431152394e+18, 5.533385431152394e+18], [4.791961703900664e+18, 5.791961703900664e+18], [4.578440770845786e+18, 5.578440770845786e+18]]\n",
      "    pulse_num_channels: 9\n",
      "    supported_instructions: ['rz', 'acquire', 'x', 'cx', 'sx', 'reset', 'u1', 'id', 'measure', 'play', 'u2', 'shiftf', 'delay', 'u3', 'setf']\n",
      "    u_channel_lo: [[{'q': 1, 'scale': (1+0j)}], [{'q': 2, 'scale': (1+0j)}], [{'q': 0, 'scale': (1+0j)}], [{'q': 2, 'scale': (1+0j)}], [{'q': 0, 'scale': (1+0j)}], [{'q': 1, 'scale': (1+0j)}], [{'q': 3, 'scale': (1+0j)}], [{'q': 4, 'scale': (1+0j)}], [{'q': 2, 'scale': (1+0j)}], [{'q': 4, 'scale': (1+0j)}], [{'q': 2, 'scale': (1+0j)}], [{'q': 3, 'scale': (1+0j)}]]\n",
      "    uchannels_enabled: True\n",
      "    dynamic_reprate_enabled: True\n",
      "    allow_q_object: True\n",
      "    quantum_volume: 8\n",
      "    max_shots: 8192\n",
      "    url: None\n",
      "    meas_levels: [1, 2]\n",
      "    meas_map: [[0, 1, 2, 3, 4]]\n",
      "    n_registers: 1\n",
      "    meas_lo_range: [[6.030433052e+18, 7.030433052e+18], [5.981651108e+18, 6.981651108e+18], [5.93654928e+18, 6.93654928e+18], [6.078886966e+18, 7.078886966e+18], [6.030066921e+18, 7.030066921e+18]]\n",
      "    n_uchannels: 12\n",
      "    dt: 0.2222222222222222\n",
      "    input_allowed: ['job']\n",
      "    rep_times: [0.001]\n",
      "    open_pulse: False\n",
      "    rep_delay_range: [0.0, 500.0]\n",
      "    channels: {'acquire0': {'operates': {'qubits': [0]}, 'purpose': 'acquire', 'type': 'acquire'}, 'acquire1': {'operates': {'qubits': [1]}, 'purpose': 'acquire', 'type': 'acquire'}, 'acquire2': {'operates': {'qubits': [2]}, 'purpose': 'acquire', 'type': 'acquire'}, 'acquire3': {'operates': {'qubits': [3]}, 'purpose': 'acquire', 'type': 'acquire'}, 'acquire4': {'operates': {'qubits': [4]}, 'purpose': 'acquire', 'type': 'acquire'}, 'd0': {'operates': {'qubits': [0]}, 'purpose': 'drive', 'type': 'drive'}, 'd1': {'operates': {'qubits': [1]}, 'purpose': 'drive', 'type': 'drive'}, 'd2': {'operates': {'qubits': [2]}, 'purpose': 'drive', 'type': 'drive'}, 'd3': {'operates': {'qubits': [3]}, 'purpose': 'drive', 'type': 'drive'}, 'd4': {'operates': {'qubits': [4]}, 'purpose': 'drive', 'type': 'drive'}, 'm0': {'operates': {'qubits': [0]}, 'purpose': 'measure', 'type': 'measure'}, 'm1': {'operates': {'qubits': [1]}, 'purpose': 'measure', 'type': 'measure'}, 'm2': {'operates': {'qubits': [2]}, 'purpose': 'measure', 'type': 'measure'}, 'm3': {'operates': {'qubits': [3]}, 'purpose': 'measure', 'type': 'measure'}, 'm4': {'operates': {'qubits': [4]}, 'purpose': 'measure', 'type': 'measure'}, 'u0': {'operates': {'qubits': [0, 1]}, 'purpose': 'cross-resonance', 'type': 'control'}, 'u1': {'operates': {'qubits': [0, 2]}, 'purpose': 'cross-resonance', 'type': 'control'}, 'u10': {'operates': {'qubits': [4, 2]}, 'purpose': 'cross-resonance', 'type': 'control'}, 'u11': {'operates': {'qubits': [4, 3]}, 'purpose': 'cross-resonance', 'type': 'control'}, 'u2': {'operates': {'qubits': [1, 0]}, 'purpose': 'cross-resonance', 'type': 'control'}, 'u3': {'operates': {'qubits': [1, 2]}, 'purpose': 'cross-resonance', 'type': 'control'}, 'u4': {'operates': {'qubits': [2, 0]}, 'purpose': 'cross-resonance', 'type': 'control'}, 'u5': {'operates': {'qubits': [2, 1]}, 'purpose': 'cross-resonance', 'type': 'control'}, 'u6': {'operates': {'qubits': [2, 3]}, 'purpose': 'cross-resonance', 'type': 'control'}, 'u7': {'operates': {'qubits': [2, 4]}, 'purpose': 'cross-resonance', 'type': 'control'}, 'u8': {'operates': {'qubits': [3, 2]}, 'purpose': 'cross-resonance', 'type': 'control'}, 'u9': {'operates': {'qubits': [3, 4]}, 'purpose': 'cross-resonance', 'type': 'control'}}\n",
      "    default_rep_delay: 250.0\n",
      "    discriminators: ['linear_discriminator', 'quadratic_discriminator', 'hw_centroid']\n",
      "    acquisition_latency: []\n",
      "    backend_name: ibmqx2\n",
      "    max_experiments: 75\n",
      "    sample_name: family: Canary, revision: 1\n",
      "    hamiltonian: {'description': 'Qubits are modeled as Duffing oscillators. In this case, the system includes higher energy states, i.e. not just |0> and |1>. The Pauli operators are generalized via the following set of transformations:\\n\\n$(\\\\mathbb{I}-\\\\sigma_{i}^z)/2 \\\\rightarrow O_i \\\\equiv b^\\\\dagger_{i} b_{i}$,\\n\\n$\\\\sigma_{+} \\\\rightarrow b^\\\\dagger$,\\n\\n$\\\\sigma_{-} \\\\rightarrow b$,\\n\\n$\\\\sigma_{i}^X \\\\rightarrow b^\\\\dagger_{i} + b_{i}$.\\n\\nQubits are coupled through resonator buses. The provided Hamiltonian has been projected into the zero excitation subspace of the resonator buses leading to an effective qubit-qubit flip-flop interaction. The qubit resonance frequencies in the Hamiltonian are the cavity dressed frequencies and not exactly what is returned by the backend defaults, which also includes the dressing due to the qubit-qubit interactions.\\n\\nQuantities are returned in angular frequencies, with units 2*pi*GHz.\\n\\nWARNING: Currently not all system Hamiltonian information is available to the public, missing values have been replaced with 0.\\n', 'h_latex': '\\\\begin{align} \\\\mathcal{H}/\\\\hbar = & \\\\sum_{i=0}^{4}\\\\left(\\\\frac{\\\\omega_{q,i}}{2}(\\\\mathbb{I}-\\\\sigma_i^{z})+\\\\frac{\\\\Delta_{i}}{2}(O_i^2-O_i)+\\\\Omega_{d,i}D_i(t)\\\\sigma_i^{X}\\\\right) \\\\\\\\ & + J_{0,1}(\\\\sigma_{0}^{+}\\\\sigma_{1}^{-}+\\\\sigma_{0}^{-}\\\\sigma_{1}^{+}) + J_{1,2}(\\\\sigma_{1}^{+}\\\\sigma_{2}^{-}+\\\\sigma_{1}^{-}\\\\sigma_{2}^{+}) + J_{2,3}(\\\\sigma_{2}^{+}\\\\sigma_{3}^{-}+\\\\sigma_{2}^{-}\\\\sigma_{3}^{+}) + J_{2,4}(\\\\sigma_{2}^{+}\\\\sigma_{4}^{-}+\\\\sigma_{2}^{-}\\\\sigma_{4}^{+}) \\\\\\\\ & + J_{3,4}(\\\\sigma_{3}^{+}\\\\sigma_{4}^{-}+\\\\sigma_{3}^{-}\\\\sigma_{4}^{+}) + J_{0,2}(\\\\sigma_{0}^{+}\\\\sigma_{2}^{-}+\\\\sigma_{0}^{-}\\\\sigma_{2}^{+}) \\\\\\\\ & + \\\\Omega_{d,0}(U_{0}^{(0,1)}(t)+U_{1}^{(0,2)}(t))\\\\sigma_{0}^{X} + \\\\Omega_{d,1}(U_{2}^{(1,0)}(t)+U_{3}^{(1,2)}(t))\\\\sigma_{1}^{X} \\\\\\\\ & + \\\\Omega_{d,2}(U_{6}^{(2,3)}(t)+U_{5}^{(2,1)}(t)+U_{7}^{(2,4)}(t)+U_{4}^{(2,0)}(t))\\\\sigma_{2}^{X} + \\\\Omega_{d,3}(U_{8}^{(3,2)}(t)+U_{9}^{(3,4)}(t))\\\\sigma_{3}^{X} \\\\\\\\ & + \\\\Omega_{d,4}(U_{11}^{(4,3)}(t)+U_{10}^{(4,2)}(t))\\\\sigma_{4}^{X} \\\\\\\\ \\\\end{align}', 'h_str': ['_SUM[i,0,4,wq{i}/2*(I{i}-Z{i})]', '_SUM[i,0,4,delta{i}/2*O{i}*O{i}]', '_SUM[i,0,4,-delta{i}/2*O{i}]', '_SUM[i,0,4,omegad{i}*X{i}||D{i}]', 'jq0q1*Sp0*Sm1', 'jq0q1*Sm0*Sp1', 'jq1q2*Sp1*Sm2', 'jq1q2*Sm1*Sp2', 'jq2q3*Sp2*Sm3', 'jq2q3*Sm2*Sp3', 'jq2q4*Sp2*Sm4', 'jq2q4*Sm2*Sp4', 'jq3q4*Sp3*Sm4', 'jq3q4*Sm3*Sp4', 'jq0q2*Sp0*Sm2', 'jq0q2*Sm0*Sp2', 'omegad1*X0||U0', 'omegad2*X0||U1', 'omegad0*X1||U2', 'omegad2*X1||U3', 'omegad3*X2||U6', 'omegad1*X2||U5', 'omegad4*X2||U7', 'omegad0*X2||U4', 'omegad2*X3||U8', 'omegad4*X3||U9', 'omegad3*X4||U11', 'omegad2*X4||U10'], 'osc': {}, 'qub': {'0': 3, '1': 3, '2': 3, '3': 3, '4': 3}, 'vars': {'delta0': -2.078515989791283, 'delta1': -2.076140198460304, 'delta2': -2.3632544243955147, 'delta3': -2.071793501418874, 'delta4': -2.092928090491978, 'jq0q1': 0.011968734726718661, 'jq0q2': 0.01143731530238952, 'jq1q2': 0.0077637124867075335, 'jq2q3': 0.011434086611531646, 'jq2q4': 0.011382837107272241, 'jq3q4': 0.012622615872488169, 'omegad0': 0.4011496267010709, 'omegad1': 0.3612214138012804, 'omegad2': 0.32003474039279173, 'omegad3': 0.2925345140010177, 'omegad4': 0.41350585971025955, 'wq0': 33.189911451401876, 'wq1': 32.97104237269953, 'wq2': 31.625693386388512, 'wq3': 33.2503760241057, 'wq4': 31.908784434760015}}\n",
      "    allow_object_storage: True\n",
      "    pulse_num_qubits: 3\n",
      "    description: 5 qubit device Yorktown\n",
      "    dtm: 0.2222222222222222\n",
      "    coupling_map: [[0, 1], [0, 2], [1, 0], [1, 2], [2, 0], [2, 1], [2, 3], [2, 4], [3, 2], [3, 4], [4, 2], [4, 3]]\n",
      "    qubit_channel_mapping: [['u4', 'd0', 'u1', 'u2', 'u0', 'm0'], ['u5', 'u2', 'u3', 'u0', 'd1', 'm1'], ['u4', 'u7', 'u1', 'u8', 'u6', 'u10', 'u5', 'm2', 'u3', 'd2'], ['m3', 'u8', 'u6', 'u9', 'd3', 'u11'], ['u7', 'u10', 'u9', 'u11', 'd4', 'm4']]\n",
      "    memory: True\n",
      "    online_date: 2017-01-24 05:00:00+00:00\n",
      "    multi_meas_enabled: True\n",
      "    conditional_latency: []\n",
      "    parametric_pulses: ['gaussian', 'gaussian_square', 'drag', 'constant']\n",
      "    processor_type: {'family': 'Canary', 'revision': 1}\n",
      "    credits_required: True\n",
      "\n",
      "Qubits [Name / Freq / T1 / T2 / RZ err / SX err / X err / Readout err]\n",
      "----------------------------------------------------------------------\n",
      "    Q0 / 5.28234 GHz / 55.54061 us / 28.27179 us / 0.00000 / 0.00175 / 0.00175 / 0.10530 \n",
      "    Q1 / 5.24750 GHz / 56.60690 us / 25.38942 us / 0.00000 / 0.00162 / 0.00162 / 0.04810 \n",
      "    Q2 / 5.03339 GHz / 67.94200 us / 52.76012 us / 0.00000 / 0.00070 / 0.00070 / 0.08460 \n",
      "    Q3 / 5.29196 GHz / 56.97601 us / 32.05763 us / 0.00000 / 0.00042 / 0.00042 / 0.03500 \n",
      "    Q4 / 5.07844 GHz / 56.02679 us / 40.40350 us / 0.00000 / 0.00056 / 0.00056 / 0.04930 \n",
      "\n",
      "Multi-Qubit Gates [Name / Type / Gate Error]\n",
      "--------------------------------------------\n",
      "    cx4_2 / cx / 0.01646\n",
      "    cx2_4 / cx / 0.01646\n",
      "    cx3_4 / cx / 0.01454\n",
      "    cx4_3 / cx / 0.01454\n",
      "    cx3_2 / cx / 0.01830\n",
      "    cx2_3 / cx / 0.01830\n",
      "    cx1_2 / cx / 0.02579\n",
      "    cx2_1 / cx / 0.02579\n",
      "    cx0_2 / cx / 0.03150\n",
      "    cx2_0 / cx / 0.03150\n",
      "    cx0_1 / cx / 0.01985\n",
      "    cx1_0 / cx / 0.01985\n"
     ]
    }
   ],
   "source": [
    "backend_monitor(backend_device)"
   ]
  },
  {
   "cell_type": "code",
   "execution_count": 39,
   "metadata": {},
   "outputs": [
    {
     "data": {
      "application/vnd.jupyter.widget-view+json": {
       "model_id": "fced12e84bb9450d9cfa93d7f5065516",
       "version_major": 2,
       "version_minor": 0
      },
      "text/plain": [
       "VBox(children=(HTML(value=\"<h1 style='color:#ffffff;background-color:#000000;padding-top: 1%;padding-bottom: 1…"
      ]
     },
     "metadata": {},
     "output_type": "display_data"
    },
    {
     "data": {
      "text/plain": [
       "<IBMQBackend('ibmqx2') from IBMQ(hub='ibm-q', group='open', project='main')>"
      ]
     },
     "execution_count": 39,
     "metadata": {},
     "output_type": "execute_result"
    }
   ],
   "source": [
    "# Informação backend\n",
    "backend_device"
   ]
  },
  {
   "cell_type": "code",
   "execution_count": 40,
   "metadata": {},
   "outputs": [
    {
     "data": {
      "application/vnd.jupyter.widget-view+json": {
       "model_id": "",
       "version_major": 2,
       "version_minor": 0
      },
      "text/plain": [
       "Accordion(children=(VBox(layout=Layout(max_width='710px', min_width='710px')),), layout=Layout(max_height='500…"
      ]
     },
     "metadata": {},
     "output_type": "display_data"
    },
    {
     "data": {
      "application/javascript": [
       "$('div.job_widget')\n",
       "        .detach()\n",
       "        .appendTo($('#header'))\n",
       "        .css({\n",
       "            'z-index': 999,\n",
       "             'position': 'fixed',\n",
       "            'box-shadow': '5px 5px 5px -3px black',\n",
       "            'opacity': 0.95,\n",
       "            'float': 'left,'\n",
       "        })\n",
       "        "
      ],
      "text/plain": [
       "<IPython.core.display.Javascript object>"
      ]
     },
     "metadata": {},
     "output_type": "display_data"
    }
   ],
   "source": [
    "%qiskit_job_watcher"
   ]
  },
  {
   "cell_type": "markdown",
   "metadata": {},
   "source": [
    "- Imprime o ID que será utilizado para executar o circuito definido no computador quântico escolhido."
   ]
  },
  {
   "cell_type": "code",
   "execution_count": 41,
   "metadata": {},
   "outputs": [
    {
     "name": "stdout",
     "output_type": "stream",
     "text": [
      "JOB ID: 60bd374d5f4eaa0098dafef9\n"
     ]
    }
   ],
   "source": [
    "job_Grover_r = execute(qc_Grover, backend_device, shots=shots)\n",
    "\n",
    "jobID_Grover_r = job_Grover_r.job_id()\n",
    "\n",
    "print('JOB ID: {}'.format(jobID_Grover_r))"
   ]
  },
  {
   "cell_type": "code",
   "execution_count": 43,
   "metadata": {},
   "outputs": [],
   "source": [
    "job_get=backend_device.retrieve_job(\"60bd374d5f4eaa0098dafef9\")\n",
    "\n",
    "result_Grover_r = job_get.result()\n",
    "counts_Grover_run = result_Grover_r.get_counts(qc_Grover)"
   ]
  },
  {
   "cell_type": "markdown",
   "metadata": {},
   "source": [
    "- Desenha o histograma."
   ]
  },
  {
   "cell_type": "code",
   "execution_count": 44,
   "metadata": {},
   "outputs": [
    {
     "data": {
      "image/png": "[encoded data removed]",
      "text/plain": [
       "<Figure size 504x360 with 1 Axes>"
      ]
     },
     "execution_count": 44,
     "metadata": {},
     "output_type": "execute_result"
    }
   ],
   "source": [
    "plot_histogram([counts_Grover_run, counts_Grover], legend=[ 'run in real device', 'ideal'], color=['#061727','#82cfff'])"
   ]
  },
  {
   "cell_type": "markdown",
   "metadata": {},
   "source": [
    "- Desenha o circuito."
   ]
  },
  {
   "cell_type": "code",
   "execution_count": 45,
   "metadata": {},
   "outputs": [
    {
     "data": {
      "image/png": "[encoded data removed]",
      "text/plain": [
       "<Figure size 842.093x403.34 with 1 Axes>"
      ]
     },
     "execution_count": 45,
     "metadata": {},
     "output_type": "execute_result"
    }
   ],
   "source": [
    "from qiskit.compiler import transpile\n",
    "\n",
    "qc_t_real = transpile(qc_Grover, backend=backend_device)\n",
    "\n",
    "qc_t_real.draw(output='mpl', scale=0.5)"
   ]
  },
  {
   "cell_type": "markdown",
   "metadata": {},
   "source": [
    "- Otimiza o circuito."
   ]
  },
  {
   "cell_type": "code",
   "execution_count": 46,
   "metadata": {},
   "outputs": [
    {
     "data": {
      "image/png": "[encoded data removed]",
      "text/plain": [
       "<Figure size 842.02x614.04 with 1 Axes>"
      ]
     },
     "execution_count": 46,
     "metadata": {},
     "output_type": "execute_result"
    }
   ],
   "source": [
    "qc_optimized = transpile(qc_Grover, backend=backend_device, optimization_level=3)\n",
    "qc_optimized.draw(output='mpl', scale=0.5)"
   ]
  },
  {
   "cell_type": "markdown",
   "metadata": {},
   "source": [
    "- Profundidade do circuito de Grover."
   ]
  },
  {
   "cell_type": "code",
   "execution_count": 47,
   "metadata": {},
   "outputs": [
    {
     "data": {
      "text/plain": [
       "12"
      ]
     },
     "execution_count": 47,
     "metadata": {},
     "output_type": "execute_result"
    }
   ],
   "source": [
    "qc_Grover.depth()"
   ]
  },
  {
   "cell_type": "markdown",
   "metadata": {},
   "source": [
    "- Profundidade real do circuito executado anteriormente."
   ]
  },
  {
   "cell_type": "code",
   "execution_count": 48,
   "metadata": {},
   "outputs": [
    {
     "data": {
      "text/plain": [
       "30"
      ]
     },
     "execution_count": 48,
     "metadata": {},
     "output_type": "execute_result"
    }
   ],
   "source": [
    "qc_t_real.depth()"
   ]
  },
  {
   "cell_type": "markdown",
   "metadata": {},
   "source": [
    "- Desenha o layout do circuito."
   ]
  },
  {
   "cell_type": "code",
   "execution_count": 49,
   "metadata": {},
   "outputs": [
    {
     "data": {
      "image/png": "[encoded data removed]",
      "text/plain": [
       "<Figure size 360x360 with 1 Axes>"
      ]
     },
     "execution_count": 49,
     "metadata": {},
     "output_type": "execute_result"
    }
   ],
   "source": [
    "from qiskit.visualization import plot_circuit_layout\n",
    "plot_circuit_layout(qc_t_real, backend_device)"
   ]
  },
  {
   "cell_type": "markdown",
   "metadata": {},
   "source": [
    "- Profundidade do circuito otimizado."
   ]
  },
  {
   "cell_type": "code",
   "execution_count": 50,
   "metadata": {},
   "outputs": [
    {
     "data": {
      "text/plain": [
       "47"
      ]
     },
     "execution_count": 50,
     "metadata": {},
     "output_type": "execute_result"
    }
   ],
   "source": [
    "qc_optimized.depth()"
   ]
  },
  {
   "cell_type": "markdown",
   "metadata": {},
   "source": [
    "- Desenho do circuito otimizado."
   ]
  },
  {
   "cell_type": "code",
   "execution_count": 51,
   "metadata": {},
   "outputs": [
    {
     "data": {
      "image/png": "[encoded data removed]",
      "text/plain": [
       "<Figure size 360x360 with 1 Axes>"
      ]
     },
     "execution_count": 51,
     "metadata": {},
     "output_type": "execute_result"
    }
   ],
   "source": [
    "plot_circuit_layout(qc_optimized, backend_device)"
   ]
  },
  {
   "cell_type": "markdown",
   "metadata": {},
   "source": [
    "- Executa o circuito otimizado no computador quântico."
   ]
  },
  {
   "cell_type": "code",
   "execution_count": 52,
   "metadata": {},
   "outputs": [
    {
     "name": "stdout",
     "output_type": "stream",
     "text": [
      "JOB ID: 60bd379b1eb0243bf1cefbcb\n"
     ]
    },
    {
     "data": {
      "text/plain": [
       "{'000': 103,\n",
       " '001': 70,\n",
       " '010': 109,\n",
       " '011': 96,\n",
       " '100': 83,\n",
       " '101': 113,\n",
       " '110': 89,\n",
       " '111': 361}"
      ]
     },
     "execution_count": 52,
     "metadata": {},
     "output_type": "execute_result"
    }
   ],
   "source": [
    "job_exp = execute(qc_optimized, backend_device, shots = shots)\n",
    "\n",
    "# job_id allows you to retrive old jobs\n",
    "jobID = job_exp.job_id()\n",
    "\n",
    "print('JOB ID: {}'.format(jobID))\n",
    "\n",
    "job_exp.result().get_counts(qc_optimized)"
   ]
  },
  {
   "cell_type": "code",
   "execution_count": 53,
   "metadata": {},
   "outputs": [],
   "source": [
    "#with optimization 2\n",
    "job_get_o=backend_device.retrieve_job(\"60bd379b1eb0243bf1cefbcb\")\n",
    "\n",
    "result_real_o = job_get_o.result(timeout=3600, wait=5)\n",
    "\n",
    "counts_opt = result_real_o.get_counts(qc_optimized)"
   ]
  },
  {
   "cell_type": "code",
   "execution_count": 54,
   "metadata": {},
   "outputs": [],
   "source": [
    "%qiskit_disable_job_watcher"
   ]
  },
  {
   "cell_type": "markdown",
   "metadata": {},
   "source": [
    "- Desenha o histograma"
   ]
  },
  {
   "cell_type": "code",
   "execution_count": 55,
   "metadata": {},
   "outputs": [
    {
     "data": {
      "image/png": "[encoded data removed]",
      "text/plain": [
       "<Figure size 1080x360 with 1 Axes>"
      ]
     },
     "execution_count": 55,
     "metadata": {},
     "output_type": "execute_result"
    }
   ],
   "source": [
    "title = 'Grover'\n",
    "legend = [ 'simulation results','run in real device results', 'optimized circuit']\n",
    "color = ['#6ea6ff','#051243','#054ada']\n",
    "\n",
    "plot_histogram([counts_Grover, counts_Grover_run, counts_opt], legend = legend, title= title, color=color, figsize=(15, 5))"
   ]
  },
  {
   "cell_type": "markdown",
   "metadata": {},
   "source": [
    "## IGNIS"
   ]
  },
  {
   "cell_type": "markdown",
   "metadata": {},
   "source": [
    "- Importa as funções de medida e calibração."
   ]
  },
  {
   "cell_type": "code",
   "execution_count": 56,
   "metadata": {},
   "outputs": [],
   "source": [
    "from qiskit.ignis.mitigation.measurement import (complete_meas_cal, tensored_meas_cal,\n",
    "                                                 CompleteMeasFitter, TensoredMeasFitter)"
   ]
  },
  {
   "cell_type": "markdown",
   "metadata": {},
   "source": [
    "- Gera os circuitos de calibração."
   ]
  },
  {
   "cell_type": "code",
   "execution_count": 57,
   "metadata": {},
   "outputs": [],
   "source": [
    "qr = QuantumRegister(x)\n",
    "meas_calibs, state_labels = complete_meas_cal(qubit_list=[0,1,2], qr=qr, circlabel='mcal')"
   ]
  },
  {
   "cell_type": "markdown",
   "metadata": {},
   "source": [
    "- Lista de estados."
   ]
  },
  {
   "cell_type": "code",
   "execution_count": 58,
   "metadata": {},
   "outputs": [
    {
     "data": {
      "text/plain": [
       "['000', '001', '010', '011', '100', '101', '110', '111']"
      ]
     },
     "execution_count": 58,
     "metadata": {},
     "output_type": "execute_result"
    }
   ],
   "source": [
    "state_labels"
   ]
  },
  {
   "cell_type": "markdown",
   "metadata": {},
   "source": [
    "- Descobre o ID."
   ]
  },
  {
   "cell_type": "code",
   "execution_count": 59,
   "metadata": {},
   "outputs": [
    {
     "data": {
      "application/vnd.jupyter.widget-view+json": {
       "model_id": "",
       "version_major": 2,
       "version_minor": 0
      },
      "text/plain": [
       "Accordion(children=(VBox(layout=Layout(max_width='710px', min_width='710px')),), layout=Layout(max_height='500…"
      ]
     },
     "metadata": {},
     "output_type": "display_data"
    },
    {
     "data": {
      "application/javascript": [
       "$('div.job_widget')\n",
       "        .detach()\n",
       "        .appendTo($('#header'))\n",
       "        .css({\n",
       "            'z-index': 999,\n",
       "             'position': 'fixed',\n",
       "            'box-shadow': '5px 5px 5px -3px black',\n",
       "            'opacity': 0.95,\n",
       "            'float': 'left,'\n",
       "        })\n",
       "        "
      ],
      "text/plain": [
       "<IPython.core.display.Javascript object>"
      ]
     },
     "metadata": {},
     "output_type": "display_data"
    }
   ],
   "source": [
    "%qiskit_job_watcher"
   ]
  },
  {
   "cell_type": "code",
   "execution_count": 60,
   "metadata": {},
   "outputs": [
    {
     "name": "stdout",
     "output_type": "stream",
     "text": [
      "JOB ID: 60bd3807917aa0525e9b7fe6\n"
     ]
    }
   ],
   "source": [
    "job_ignis = execute(meas_calibs, backend=backend_device, shots=shots)\n",
    "\n",
    "jobID_run_ignis = job_ignis.job_id()\n",
    "\n",
    "print('JOB ID: {}'.format(jobID_run_ignis))"
   ]
  },
  {
   "cell_type": "markdown",
   "metadata": {},
   "source": [
    "- Obtém os Resultados."
   ]
  },
  {
   "cell_type": "code",
   "execution_count": 61,
   "metadata": {},
   "outputs": [],
   "source": [
    "job_get=backend_device.retrieve_job(\"60bd3807917aa0525e9b7fe6\")\n",
    "\n",
    "cal_results = job_get.result()"
   ]
  },
  {
   "cell_type": "code",
   "execution_count": 62,
   "metadata": {},
   "outputs": [],
   "source": [
    "%qiskit_disable_job_watcher"
   ]
  },
  {
   "cell_type": "markdown",
   "metadata": {},
   "source": [
    "- Faz um mapa da matriz de calibração."
   ]
  },
  {
   "cell_type": "code",
   "execution_count": 63,
   "metadata": {},
   "outputs": [
    {
     "data": {
      "image/png": "[encoded data removed]",
      "text/plain": [
       "<Figure size 432x288 with 2 Axes>"
      ]
     },
     "metadata": {
      "needs_background": "light"
     },
     "output_type": "display_data"
    }
   ],
   "source": [
    "meas_fitter = CompleteMeasFitter(cal_results, state_labels, circlabel='mcal')\n",
    "\n",
    "# Plot the calibration matrix\n",
    "meas_fitter.plot_calibration()"
   ]
  },
  {
   "cell_type": "code",
   "execution_count": 64,
   "metadata": {},
   "outputs": [
    {
     "name": "stdout",
     "output_type": "stream",
     "text": [
      "Average Measurement Fidelity: 0.767456\n"
     ]
    }
   ],
   "source": [
    "print(\"Average Measurement Fidelity: %f\" % meas_fitter.readout_fidelity())"
   ]
  },
  {
   "cell_type": "markdown",
   "metadata": {},
   "source": [
    "- Obtém o objeto de filtro."
   ]
  },
  {
   "cell_type": "code",
   "execution_count": 65,
   "metadata": {},
   "outputs": [],
   "source": [
    "meas_filter = meas_fitter.filter\n",
    "\n",
    "# Results with mitigation\n",
    "mitigated_results = meas_filter.apply(result_Grover_r)\n",
    "mitigated_counts = mitigated_results.get_counts()"
   ]
  },
  {
   "cell_type": "markdown",
   "metadata": {},
   "source": [
    "- Desenha o histograma."
   ]
  },
  {
   "cell_type": "code",
   "execution_count": 66,
   "metadata": {},
   "outputs": [
    {
     "data": {
      "image/png": "[encoded data removed]",
      "text/plain": [
       "<Figure size 504x360 with 1 Axes>"
      ]
     },
     "execution_count": 66,
     "metadata": {},
     "output_type": "execute_result"
    }
   ],
   "source": [
    "plot_histogram([counts_Grover_run, mitigated_counts, counts_Grover], legend=['raw', 'mitigated', 'ideal'])"
   ]
  }
 ],
 "metadata": {
  "kernelspec": {
   "display_name": "Python 3",
   "language": "python",
   "name": "python3"
  },
  "language_info": {
   "codemirror_mode": {
    "name": "ipython",
    "version": 3
   },
   "file_extension": ".py",
   "mimetype": "text/x-python",
   "name": "python",
   "nbconvert_exporter": "python",
   "pygments_lexer": "ipython3",
   "version": "3.8.5"
  }
 },
 "nbformat": 4,
 "nbformat_minor": 4
}
